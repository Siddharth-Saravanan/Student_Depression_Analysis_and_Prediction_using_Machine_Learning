{
  "cells": [
    {
      "cell_type": "markdown",
      "metadata": {},
      "source": [
        "<a href=\"https://colab.research.google.com/github/Siddharth-Saravanan/Student_Depression_Analysis_and_Prediction_using_Machine_Learning/blob/main/student_depression_prediction.ipynb\" target=\"_parent\"><img src=\"https://colab.research.google.com/assets/colab-badge.svg\" alt=\"Open In Colab\"/></a>"
      ]
    },
    {
      "cell_type": "markdown",
      "metadata": {
        "id": "-NCokcR3Lfn0"
      },
      "source": [
        "# **Student Depression Prediction Using Machine Learning**\n",
        "---"
      ]
    },
    {
      "cell_type": "markdown",
      "metadata": {
        "id": "ydvUWv1DLYnJ"
      },
      "source": [
        "## **Importing Libraries**"
      ]
    },
    {
      "cell_type": "code",
      "execution_count": 1,
      "metadata": {
        "id": "7GRz7ezWNEWl"
      },
      "outputs": [],
      "source": [
        "import numpy as np\n",
        "import pandas as pd\n",
        "import matplotlib.pyplot as plt\n",
        "import matplotlib.cm as cm\n",
        "import seaborn as sns"
      ]
    },
    {
      "cell_type": "markdown",
      "metadata": {
        "id": "Cx8Bm8T-NvCD"
      },
      "source": [
        "## **Data Loading and Cleaning**"
      ]
    },
    {
      "cell_type": "code",
      "execution_count": 2,
      "metadata": {
        "colab": {
          "base_uri": "https://localhost:8080/",
          "height": 241
        },
        "id": "JJPtGfZJNxnl",
        "outputId": "116eeaf4-2739-447c-9e47-3b1853113869"
      },
      "outputs": [
        {
          "data": {
            "text/html": [
              "<div>\n",
              "<style scoped>\n",
              "    .dataframe tbody tr th:only-of-type {\n",
              "        vertical-align: middle;\n",
              "    }\n",
              "\n",
              "    .dataframe tbody tr th {\n",
              "        vertical-align: top;\n",
              "    }\n",
              "\n",
              "    .dataframe thead th {\n",
              "        text-align: right;\n",
              "    }\n",
              "</style>\n",
              "<table border=\"1\" class=\"dataframe\">\n",
              "  <thead>\n",
              "    <tr style=\"text-align: right;\">\n",
              "      <th></th>\n",
              "      <th>id</th>\n",
              "      <th>Gender</th>\n",
              "      <th>Age</th>\n",
              "      <th>City</th>\n",
              "      <th>Profession</th>\n",
              "      <th>Academic Pressure</th>\n",
              "      <th>Work Pressure</th>\n",
              "      <th>CGPA</th>\n",
              "      <th>Study Satisfaction</th>\n",
              "      <th>Job Satisfaction</th>\n",
              "      <th>Sleep Duration</th>\n",
              "      <th>Dietary Habits</th>\n",
              "      <th>Degree</th>\n",
              "      <th>Have you ever had suicidal thoughts ?</th>\n",
              "      <th>Work/Study Hours</th>\n",
              "      <th>Financial Stress</th>\n",
              "      <th>Family History of Mental Illness</th>\n",
              "      <th>Depression</th>\n",
              "    </tr>\n",
              "  </thead>\n",
              "  <tbody>\n",
              "    <tr>\n",
              "      <th>0</th>\n",
              "      <td>2</td>\n",
              "      <td>Male</td>\n",
              "      <td>33.0</td>\n",
              "      <td>Visakhapatnam</td>\n",
              "      <td>Student</td>\n",
              "      <td>5.0</td>\n",
              "      <td>0.0</td>\n",
              "      <td>8.97</td>\n",
              "      <td>2.0</td>\n",
              "      <td>0.0</td>\n",
              "      <td>'5-6 hours'</td>\n",
              "      <td>Healthy</td>\n",
              "      <td>B.Pharm</td>\n",
              "      <td>Yes</td>\n",
              "      <td>3.0</td>\n",
              "      <td>1.0</td>\n",
              "      <td>No</td>\n",
              "      <td>1</td>\n",
              "    </tr>\n",
              "    <tr>\n",
              "      <th>1</th>\n",
              "      <td>8</td>\n",
              "      <td>Female</td>\n",
              "      <td>24.0</td>\n",
              "      <td>Bangalore</td>\n",
              "      <td>Student</td>\n",
              "      <td>2.0</td>\n",
              "      <td>0.0</td>\n",
              "      <td>5.90</td>\n",
              "      <td>5.0</td>\n",
              "      <td>0.0</td>\n",
              "      <td>'5-6 hours'</td>\n",
              "      <td>Moderate</td>\n",
              "      <td>BSc</td>\n",
              "      <td>No</td>\n",
              "      <td>3.0</td>\n",
              "      <td>2.0</td>\n",
              "      <td>Yes</td>\n",
              "      <td>0</td>\n",
              "    </tr>\n",
              "    <tr>\n",
              "      <th>2</th>\n",
              "      <td>26</td>\n",
              "      <td>Male</td>\n",
              "      <td>31.0</td>\n",
              "      <td>Srinagar</td>\n",
              "      <td>Student</td>\n",
              "      <td>3.0</td>\n",
              "      <td>0.0</td>\n",
              "      <td>7.03</td>\n",
              "      <td>5.0</td>\n",
              "      <td>0.0</td>\n",
              "      <td>'Less than 5 hours'</td>\n",
              "      <td>Healthy</td>\n",
              "      <td>BA</td>\n",
              "      <td>No</td>\n",
              "      <td>9.0</td>\n",
              "      <td>1.0</td>\n",
              "      <td>Yes</td>\n",
              "      <td>0</td>\n",
              "    </tr>\n",
              "    <tr>\n",
              "      <th>3</th>\n",
              "      <td>30</td>\n",
              "      <td>Female</td>\n",
              "      <td>28.0</td>\n",
              "      <td>Varanasi</td>\n",
              "      <td>Student</td>\n",
              "      <td>3.0</td>\n",
              "      <td>0.0</td>\n",
              "      <td>5.59</td>\n",
              "      <td>2.0</td>\n",
              "      <td>0.0</td>\n",
              "      <td>'7-8 hours'</td>\n",
              "      <td>Moderate</td>\n",
              "      <td>BCA</td>\n",
              "      <td>Yes</td>\n",
              "      <td>4.0</td>\n",
              "      <td>5.0</td>\n",
              "      <td>Yes</td>\n",
              "      <td>1</td>\n",
              "    </tr>\n",
              "    <tr>\n",
              "      <th>4</th>\n",
              "      <td>32</td>\n",
              "      <td>Female</td>\n",
              "      <td>25.0</td>\n",
              "      <td>Jaipur</td>\n",
              "      <td>Student</td>\n",
              "      <td>4.0</td>\n",
              "      <td>0.0</td>\n",
              "      <td>8.13</td>\n",
              "      <td>3.0</td>\n",
              "      <td>0.0</td>\n",
              "      <td>'5-6 hours'</td>\n",
              "      <td>Moderate</td>\n",
              "      <td>M.Tech</td>\n",
              "      <td>Yes</td>\n",
              "      <td>1.0</td>\n",
              "      <td>1.0</td>\n",
              "      <td>No</td>\n",
              "      <td>0</td>\n",
              "    </tr>\n",
              "  </tbody>\n",
              "</table>\n",
              "</div>"
            ],
            "text/plain": [
              "   id  Gender   Age           City Profession  Academic Pressure  \\\n",
              "0   2    Male  33.0  Visakhapatnam    Student                5.0   \n",
              "1   8  Female  24.0      Bangalore    Student                2.0   \n",
              "2  26    Male  31.0       Srinagar    Student                3.0   \n",
              "3  30  Female  28.0       Varanasi    Student                3.0   \n",
              "4  32  Female  25.0         Jaipur    Student                4.0   \n",
              "\n",
              "   Work Pressure  CGPA  Study Satisfaction  Job Satisfaction  \\\n",
              "0            0.0  8.97                 2.0               0.0   \n",
              "1            0.0  5.90                 5.0               0.0   \n",
              "2            0.0  7.03                 5.0               0.0   \n",
              "3            0.0  5.59                 2.0               0.0   \n",
              "4            0.0  8.13                 3.0               0.0   \n",
              "\n",
              "        Sleep Duration Dietary Habits   Degree  \\\n",
              "0          '5-6 hours'        Healthy  B.Pharm   \n",
              "1          '5-6 hours'       Moderate      BSc   \n",
              "2  'Less than 5 hours'        Healthy       BA   \n",
              "3          '7-8 hours'       Moderate      BCA   \n",
              "4          '5-6 hours'       Moderate   M.Tech   \n",
              "\n",
              "  Have you ever had suicidal thoughts ?  Work/Study Hours Financial Stress  \\\n",
              "0                                   Yes               3.0              1.0   \n",
              "1                                    No               3.0              2.0   \n",
              "2                                    No               9.0              1.0   \n",
              "3                                   Yes               4.0              5.0   \n",
              "4                                   Yes               1.0              1.0   \n",
              "\n",
              "  Family History of Mental Illness  Depression  \n",
              "0                               No           1  \n",
              "1                              Yes           0  \n",
              "2                              Yes           0  \n",
              "3                              Yes           1  \n",
              "4                               No           0  "
            ]
          },
          "execution_count": 2,
          "metadata": {},
          "output_type": "execute_result"
        }
      ],
      "source": [
        "# Loading Data\n",
        "depr_df = pd.read_csv('student_depression_dataset.csv')\n",
        "depr_df.head()"
      ]
    },
    {
      "cell_type": "code",
      "execution_count": 3,
      "metadata": {
        "colab": {
          "base_uri": "https://localhost:8080/"
        },
        "id": "1IDYaOxwPO-6",
        "outputId": "024953ce-c916-4391-adb1-2d3e74467fcc"
      },
      "outputs": [
        {
          "data": {
            "text/plain": [
              "(27901, 18)"
            ]
          },
          "execution_count": 3,
          "metadata": {},
          "output_type": "execute_result"
        }
      ],
      "source": [
        "# Dimensions of Data\n",
        "depr_df.shape"
      ]
    },
    {
      "cell_type": "code",
      "execution_count": 4,
      "metadata": {
        "colab": {
          "base_uri": "https://localhost:8080/"
        },
        "id": "--V0yxBZPI9u",
        "outputId": "22590ec3-11b0-49c0-98ce-ce87ca6f5a5d"
      },
      "outputs": [
        {
          "name": "stdout",
          "output_type": "stream",
          "text": [
            "<class 'pandas.core.frame.DataFrame'>\n",
            "RangeIndex: 27901 entries, 0 to 27900\n",
            "Data columns (total 18 columns):\n",
            " #   Column                                 Non-Null Count  Dtype  \n",
            "---  ------                                 --------------  -----  \n",
            " 0   id                                     27901 non-null  int64  \n",
            " 1   Gender                                 27901 non-null  object \n",
            " 2   Age                                    27901 non-null  float64\n",
            " 3   City                                   27901 non-null  object \n",
            " 4   Profession                             27901 non-null  object \n",
            " 5   Academic Pressure                      27901 non-null  float64\n",
            " 6   Work Pressure                          27901 non-null  float64\n",
            " 7   CGPA                                   27901 non-null  float64\n",
            " 8   Study Satisfaction                     27901 non-null  float64\n",
            " 9   Job Satisfaction                       27901 non-null  float64\n",
            " 10  Sleep Duration                         27901 non-null  object \n",
            " 11  Dietary Habits                         27901 non-null  object \n",
            " 12  Degree                                 27901 non-null  object \n",
            " 13  Have you ever had suicidal thoughts ?  27901 non-null  object \n",
            " 14  Work/Study Hours                       27901 non-null  float64\n",
            " 15  Financial Stress                       27901 non-null  object \n",
            " 16  Family History of Mental Illness       27901 non-null  object \n",
            " 17  Depression                             27901 non-null  int64  \n",
            "dtypes: float64(7), int64(2), object(9)\n",
            "memory usage: 3.8+ MB\n"
          ]
        }
      ],
      "source": [
        "# Overall Info about the dataset\n",
        "depr_df.info()"
      ]
    },
    {
      "cell_type": "code",
      "execution_count": 5,
      "metadata": {
        "colab": {
          "base_uri": "https://localhost:8080/",
          "height": 648
        },
        "id": "ML0Mlkx-QBy_",
        "outputId": "4f0a888b-9b28-4697-fc47-1866eec5b7b3"
      },
      "outputs": [
        {
          "data": {
            "text/plain": [
              "id                                       0\n",
              "Gender                                   0\n",
              "Age                                      0\n",
              "City                                     0\n",
              "Profession                               0\n",
              "Academic Pressure                        0\n",
              "Work Pressure                            0\n",
              "CGPA                                     0\n",
              "Study Satisfaction                       0\n",
              "Job Satisfaction                         0\n",
              "Sleep Duration                           0\n",
              "Dietary Habits                           0\n",
              "Degree                                   0\n",
              "Have you ever had suicidal thoughts ?    0\n",
              "Work/Study Hours                         0\n",
              "Financial Stress                         0\n",
              "Family History of Mental Illness         0\n",
              "Depression                               0\n",
              "dtype: int64"
            ]
          },
          "execution_count": 5,
          "metadata": {},
          "output_type": "execute_result"
        }
      ],
      "source": [
        "# Checking for extreme cases of null values\n",
        "depr_df.apply(lambda x: x.isin(['', 'NA', 'null', 'None'])).sum()"
      ]
    },
    {
      "cell_type": "markdown",
      "metadata": {
        "id": "aGgAfZ9lQ6n2"
      },
      "source": [
        "### Categorical Values Check"
      ]
    },
    {
      "cell_type": "code",
      "execution_count": 6,
      "metadata": {
        "colab": {
          "base_uri": "https://localhost:8080/"
        },
        "id": "I0-mwvPDQ49x",
        "outputId": "08b7d361-61f5-4284-f7d7-80f19afd4153"
      },
      "outputs": [
        {
          "data": {
            "text/plain": [
              "array(['Male', 'Female'], dtype=object)"
            ]
          },
          "execution_count": 6,
          "metadata": {},
          "output_type": "execute_result"
        }
      ],
      "source": [
        "depr_df['Gender'].unique()"
      ]
    },
    {
      "cell_type": "code",
      "execution_count": 7,
      "metadata": {
        "colab": {
          "base_uri": "https://localhost:8080/"
        },
        "id": "cBHetSC4RKp-",
        "outputId": "6d8a8243-0166-4fb5-e811-7463dbc15775"
      },
      "outputs": [
        {
          "data": {
            "text/plain": [
              "array(['Visakhapatnam', 'Bangalore', 'Srinagar', 'Varanasi', 'Jaipur',\n",
              "       'Pune', 'Thane', 'Chennai', 'Nagpur', 'Nashik', 'Vadodara',\n",
              "       'Kalyan', 'Rajkot', 'Ahmedabad', 'Kolkata', 'Mumbai', 'Lucknow',\n",
              "       'Indore', 'Surat', 'Ludhiana', 'Bhopal', 'Meerut', 'Agra',\n",
              "       'Ghaziabad', 'Hyderabad', 'Vasai-Virar', 'Kanpur', 'Patna',\n",
              "       'Faridabad', 'Delhi', 'Saanvi', 'M.Tech', 'Bhavna', \"'Less Delhi'\",\n",
              "       'City', '3.0', \"'Less than 5 Kalyan'\", 'Mira', 'Harsha', 'Vaanya',\n",
              "       'Gaurav', 'Harsh', 'Reyansh', 'Kibara', 'Rashi', 'ME', 'M.Com',\n",
              "       'Nalyan', 'Mihir', 'Nalini', 'Nandini', 'Khaziabad'], dtype=object)"
            ]
          },
          "execution_count": 7,
          "metadata": {},
          "output_type": "execute_result"
        }
      ],
      "source": [
        "depr_df['City'].unique()"
      ]
    },
    {
      "cell_type": "markdown",
      "metadata": {
        "id": "f35x8mNURw-N"
      },
      "source": [
        "Notice the anomalies in `City` column such as **`M.Tech, Saanvi, 3.0, Less than 5 Kalyan`** and so much more... <br>\n",
        "\n",
        "These are needed to be cleaned"
      ]
    },
    {
      "cell_type": "code",
      "execution_count": 8,
      "metadata": {
        "colab": {
          "base_uri": "https://localhost:8080/",
          "height": 1000
        },
        "id": "Hy8s8p4_bSF7",
        "outputId": "03f36640-9837-4191-e970-007d2dcf31ad"
      },
      "outputs": [
        {
          "data": {
            "text/plain": [
              "City\n",
              "Kalyan                  1570\n",
              "Srinagar                1372\n",
              "Hyderabad               1340\n",
              "Vasai-Virar             1290\n",
              "Lucknow                 1155\n",
              "Thane                   1139\n",
              "Ludhiana                1111\n",
              "Agra                    1094\n",
              "Surat                   1078\n",
              "Kolkata                 1066\n",
              "Jaipur                  1036\n",
              "Patna                   1007\n",
              "Visakhapatnam            969\n",
              "Pune                     968\n",
              "Ahmedabad                951\n",
              "Bhopal                   934\n",
              "Chennai                  885\n",
              "Meerut                   825\n",
              "Rajkot                   816\n",
              "Delhi                    768\n",
              "Bangalore                767\n",
              "Ghaziabad                745\n",
              "Mumbai                   699\n",
              "Vadodara                 694\n",
              "Varanasi                 685\n",
              "Nagpur                   651\n",
              "Indore                   643\n",
              "Kanpur                   609\n",
              "Nashik                   547\n",
              "Faridabad                461\n",
              "Saanvi                     2\n",
              "Bhavna                     2\n",
              "City                       2\n",
              "Harsha                     2\n",
              "Kibara                     1\n",
              "Nandini                    1\n",
              "Nalini                     1\n",
              "Mihir                      1\n",
              "Nalyan                     1\n",
              "M.Com                      1\n",
              "ME                         1\n",
              "Rashi                      1\n",
              "Gaurav                     1\n",
              "Reyansh                    1\n",
              "Harsh                      1\n",
              "Vaanya                     1\n",
              "Mira                       1\n",
              "'Less than 5 Kalyan'       1\n",
              "3.0                        1\n",
              "'Less Delhi'               1\n",
              "M.Tech                     1\n",
              "Khaziabad                  1\n",
              "Name: count, dtype: int64"
            ]
          },
          "execution_count": 8,
          "metadata": {},
          "output_type": "execute_result"
        }
      ],
      "source": [
        "depr_df['City'].value_counts()"
      ]
    },
    {
      "cell_type": "markdown",
      "metadata": {
        "id": "qnvs4epQelJO"
      },
      "source": [
        "These anomalous values occur with very low frequency and are likely the result of incorrect or inconsistent data entry. Given their minimal representation, removing them manually has negligible impact on the overall dataset quality and ensures more consistent downstream analysis."
      ]
    },
    {
      "cell_type": "code",
      "execution_count": 9,
      "metadata": {
        "id": "gtqqnMJvclYI"
      },
      "outputs": [],
      "source": [
        "# List of invalid city values (including the typo 'Khaziabad')\n",
        "invalid_cities = [\n",
        "    'Saanvi', 'Bhavna', 'City', 'Harsha', \"'Less Delhi'\", 'M.Tech', '3.0',\n",
        "    \"'Less than 5 Kalyan'\", 'Mira', 'Vaanya', 'Gaurav', 'Harsh', 'Reyansh',\n",
        "    'Kibara', 'Rashi', 'ME', 'M.Com', 'Nalyan', 'Mihir', 'Nalini', 'Nandini', 'Khaziabad'\n",
        "]\n",
        "\n",
        "depr_df = depr_df[~depr_df['City'].isin(invalid_cities)].copy()"
      ]
    },
    {
      "cell_type": "code",
      "execution_count": 10,
      "metadata": {
        "colab": {
          "base_uri": "https://localhost:8080/"
        },
        "id": "S7pWuYP3fIMh",
        "outputId": "916dd356-7606-482f-9b06-986207455ddb"
      },
      "outputs": [
        {
          "name": "stdout",
          "output_type": "stream",
          "text": [
            "Shape after removing invalid city values: (27875, 18)\n"
          ]
        }
      ],
      "source": [
        "print(\"Shape after removing invalid city values:\", depr_df.shape)"
      ]
    },
    {
      "cell_type": "code",
      "execution_count": 11,
      "metadata": {
        "colab": {
          "base_uri": "https://localhost:8080/"
        },
        "id": "WxUNfjmZfpEF",
        "outputId": "da7cd962-2fe6-49bf-f3d1-2b9a74b4be1f"
      },
      "outputs": [
        {
          "data": {
            "text/plain": [
              "array(['Visakhapatnam', 'Bangalore', 'Srinagar', 'Varanasi', 'Jaipur',\n",
              "       'Pune', 'Thane', 'Chennai', 'Nagpur', 'Nashik', 'Vadodara',\n",
              "       'Kalyan', 'Rajkot', 'Ahmedabad', 'Kolkata', 'Mumbai', 'Lucknow',\n",
              "       'Indore', 'Surat', 'Ludhiana', 'Bhopal', 'Meerut', 'Agra',\n",
              "       'Ghaziabad', 'Hyderabad', 'Vasai-Virar', 'Kanpur', 'Patna',\n",
              "       'Faridabad', 'Delhi'], dtype=object)"
            ]
          },
          "execution_count": 11,
          "metadata": {},
          "output_type": "execute_result"
        }
      ],
      "source": [
        "depr_df['City'].unique()"
      ]
    },
    {
      "cell_type": "code",
      "execution_count": 12,
      "metadata": {
        "colab": {
          "base_uri": "https://localhost:8080/"
        },
        "id": "2vzoxFPmTx8y",
        "outputId": "a27777da-8bfc-4847-ad3c-e851f4a00723"
      },
      "outputs": [
        {
          "data": {
            "text/plain": [
              "array(['Student', \"'Civil Engineer'\", 'Architect', \"'UX/UI Designer'\",\n",
              "       \"'Digital Marketer'\", \"'Content Writer'\",\n",
              "       \"'Educational Consultant'\", 'Teacher', 'Manager', 'Chef', 'Doctor',\n",
              "       'Lawyer', 'Entrepreneur', 'Pharmacist'], dtype=object)"
            ]
          },
          "execution_count": 12,
          "metadata": {},
          "output_type": "execute_result"
        }
      ],
      "source": [
        "depr_df['Profession'].unique()"
      ]
    },
    {
      "cell_type": "markdown",
      "metadata": {
        "id": "j6auS9UnXPF9"
      },
      "source": [
        "In the `Profession` column, we observe that some values include single quotes as part of the string itself, like **`'Civil Engineer'`** or **`'UX/UI Designer'`**. <br>\n",
        "This is likely due to inconsistent formatting in the original CSV — for example, entries wrapped in single quotes may be preserved as string literals with quotes inside. <br>\n",
        "\n",
        "When **pandas** reads these values, it preserves those ***inner single quotes***, and wraps the entire string in ***double quotes*** for display in Python. This leads to visual and categorical inconsistency, which should be cleaned before further analysis."
      ]
    },
    {
      "cell_type": "code",
      "execution_count": 13,
      "metadata": {
        "id": "kGlBLvJWgNv5"
      },
      "outputs": [],
      "source": [
        "# Replacing single quotes with empty string\n",
        "depr_df['Profession'] = depr_df['Profession'].str.replace(\"'\", \"\")"
      ]
    },
    {
      "cell_type": "code",
      "execution_count": 14,
      "metadata": {
        "colab": {
          "base_uri": "https://localhost:8080/"
        },
        "id": "_W7Ovq9Agoyr",
        "outputId": "8eaa0b19-54f2-4695-b608-bfe1bd932f4b"
      },
      "outputs": [
        {
          "data": {
            "text/plain": [
              "array(['Student', 'Civil Engineer', 'Architect', 'UX/UI Designer',\n",
              "       'Digital Marketer', 'Content Writer', 'Educational Consultant',\n",
              "       'Teacher', 'Manager', 'Chef', 'Doctor', 'Lawyer', 'Entrepreneur',\n",
              "       'Pharmacist'], dtype=object)"
            ]
          },
          "execution_count": 14,
          "metadata": {},
          "output_type": "execute_result"
        }
      ],
      "source": [
        "depr_df['Profession'].unique()"
      ]
    },
    {
      "cell_type": "markdown",
      "metadata": {
        "id": "jZWXjsWvRsFL"
      },
      "source": [
        "However, the other professions apart from Student have less frequency which will addressed after reviewing other dependent columns like `Work Pressure` and `Job Satisfaction`"
      ]
    },
    {
      "cell_type": "code",
      "execution_count": 15,
      "metadata": {
        "colab": {
          "base_uri": "https://localhost:8080/",
          "height": 554
        },
        "id": "UAZZXw4pRnqY",
        "outputId": "23aebca2-b668-4797-d8b0-ca21b0f7ad8d"
      },
      "outputs": [
        {
          "data": {
            "text/plain": [
              "Profession\n",
              "Student                   27844\n",
              "Architect                     8\n",
              "Teacher                       6\n",
              "Digital Marketer              3\n",
              "Content Writer                2\n",
              "Chef                          2\n",
              "Doctor                        2\n",
              "Pharmacist                    2\n",
              "Civil Engineer                1\n",
              "UX/UI Designer                1\n",
              "Educational Consultant        1\n",
              "Manager                       1\n",
              "Lawyer                        1\n",
              "Entrepreneur                  1\n",
              "Name: count, dtype: int64"
            ]
          },
          "execution_count": 15,
          "metadata": {},
          "output_type": "execute_result"
        }
      ],
      "source": [
        "depr_df['Profession'].value_counts()"
      ]
    },
    {
      "cell_type": "code",
      "execution_count": 16,
      "metadata": {
        "colab": {
          "base_uri": "https://localhost:8080/"
        },
        "id": "tECM04dPT4v9",
        "outputId": "4663cd60-2ea7-4570-c1a9-81a0f5826272"
      },
      "outputs": [
        {
          "data": {
            "text/plain": [
              "array([\"'5-6 hours'\", \"'Less than 5 hours'\", \"'7-8 hours'\",\n",
              "       \"'More than 8 hours'\", 'Others'], dtype=object)"
            ]
          },
          "execution_count": 16,
          "metadata": {},
          "output_type": "execute_result"
        }
      ],
      "source": [
        "depr_df['Sleep Duration'].unique()"
      ]
    },
    {
      "cell_type": "markdown",
      "metadata": {
        "id": "N2Bs9RX-i4ol"
      },
      "source": [
        "`Sleep Duration` has inconsistent formatting due to extra quotation marks, similar to the `Profession` column."
      ]
    },
    {
      "cell_type": "code",
      "execution_count": 17,
      "metadata": {
        "id": "kA76YSq3kNbv"
      },
      "outputs": [],
      "source": [
        "# Replacing single quotes with empty string\n",
        "depr_df['Sleep Duration'] = depr_df['Sleep Duration'].str.replace(\"'\", '')"
      ]
    },
    {
      "cell_type": "markdown",
      "metadata": {
        "id": "3Ail4Ckuj-Ui"
      },
      "source": [
        "The `\"Others\"` category does not represent a valid duration range and needs to be removed to maintain categorical consistency."
      ]
    },
    {
      "cell_type": "code",
      "execution_count": 18,
      "metadata": {
        "colab": {
          "base_uri": "https://localhost:8080/"
        },
        "id": "xaN1YvyMj90y",
        "outputId": "ff4e8576-c9c8-4d00-848c-19c2a9742190"
      },
      "outputs": [
        {
          "data": {
            "text/plain": [
              "18"
            ]
          },
          "execution_count": 18,
          "metadata": {},
          "output_type": "execute_result"
        }
      ],
      "source": [
        "# Determining instances of 'Others' in `Sleep Duration` column\n",
        "(depr_df['Sleep Duration'] == 'Others').sum()"
      ]
    },
    {
      "cell_type": "code",
      "execution_count": 19,
      "metadata": {
        "colab": {
          "base_uri": "https://localhost:8080/"
        },
        "id": "bnoZGWcvmBee",
        "outputId": "0672ddd8-7a10-4574-e8f4-9dd0a497a793"
      },
      "outputs": [
        {
          "data": {
            "text/plain": [
              "(27857, 18)"
            ]
          },
          "execution_count": 19,
          "metadata": {},
          "output_type": "execute_result"
        }
      ],
      "source": [
        "# Removing rows with 'Others'\n",
        "depr_df = depr_df[depr_df['Sleep Duration'] != 'Others'].copy()\n",
        "depr_df.shape"
      ]
    },
    {
      "cell_type": "code",
      "execution_count": 20,
      "metadata": {
        "colab": {
          "base_uri": "https://localhost:8080/"
        },
        "id": "yxGR6OJBmYFT",
        "outputId": "8e454583-a3ef-4f73-89a4-14088b5986f4"
      },
      "outputs": [
        {
          "data": {
            "text/plain": [
              "array(['5-6 hours', 'Less than 5 hours', '7-8 hours', 'More than 8 hours'],\n",
              "      dtype=object)"
            ]
          },
          "execution_count": 20,
          "metadata": {},
          "output_type": "execute_result"
        }
      ],
      "source": [
        "depr_df['Sleep Duration'].unique()"
      ]
    },
    {
      "cell_type": "code",
      "execution_count": 21,
      "metadata": {
        "colab": {
          "base_uri": "https://localhost:8080/"
        },
        "id": "3BJiO34mUc4-",
        "outputId": "a5c9d604-a5b4-4e43-a295-fbc6fbe0a84e"
      },
      "outputs": [
        {
          "data": {
            "text/plain": [
              "array(['Healthy', 'Moderate', 'Unhealthy', 'Others'], dtype=object)"
            ]
          },
          "execution_count": 21,
          "metadata": {},
          "output_type": "execute_result"
        }
      ],
      "source": [
        "depr_df['Dietary Habits'].unique()"
      ]
    },
    {
      "cell_type": "markdown",
      "metadata": {
        "id": "M-RrDOWapEuy"
      },
      "source": [
        "Similarly, `Dietary Habits` column has a category `'Others'` which doesn't fit in as the other 3 categories cover all cases. Due to its unclear meaning and low frequency, it is removed to maintain consistency."
      ]
    },
    {
      "cell_type": "code",
      "execution_count": 22,
      "metadata": {
        "colab": {
          "base_uri": "https://localhost:8080/"
        },
        "id": "oX7FzTQxovpC",
        "outputId": "f4c4f388-c877-4bb5-881e-f95b8984b665"
      },
      "outputs": [
        {
          "data": {
            "text/plain": [
              "12"
            ]
          },
          "execution_count": 22,
          "metadata": {},
          "output_type": "execute_result"
        }
      ],
      "source": [
        "# Determining instances of 'Others' in `Dietary Habits` column\n",
        "(depr_df['Dietary Habits'] == 'Others').sum()"
      ]
    },
    {
      "cell_type": "code",
      "execution_count": 23,
      "metadata": {
        "colab": {
          "base_uri": "https://localhost:8080/"
        },
        "id": "yhOnVoDWqIOG",
        "outputId": "2d669700-a5f1-4a15-8516-8aac04f0c703"
      },
      "outputs": [
        {
          "data": {
            "text/plain": [
              "(27845, 18)"
            ]
          },
          "execution_count": 23,
          "metadata": {},
          "output_type": "execute_result"
        }
      ],
      "source": [
        "# Removing rows with 'Others'\n",
        "depr_df = depr_df[depr_df['Dietary Habits'] != 'Others'].copy()\n",
        "depr_df.shape"
      ]
    },
    {
      "cell_type": "code",
      "execution_count": 24,
      "metadata": {
        "colab": {
          "base_uri": "https://localhost:8080/"
        },
        "id": "F_KQVQmeUXM6",
        "outputId": "f70023e7-df9d-42fc-8838-221f6512185e"
      },
      "outputs": [
        {
          "data": {
            "text/plain": [
              "array(['B.Pharm', 'BSc', 'BA', 'BCA', 'M.Tech', 'PhD', \"'Class 12'\",\n",
              "       'B.Ed', 'LLB', 'BE', 'M.Ed', 'MSc', 'BHM', 'M.Pharm', 'MCA', 'MA',\n",
              "       'B.Com', 'MD', 'MBA', 'MBBS', 'M.Com', 'B.Arch', 'LLM', 'B.Tech',\n",
              "       'BBA', 'ME', 'MHM', 'Others'], dtype=object)"
            ]
          },
          "execution_count": 24,
          "metadata": {},
          "output_type": "execute_result"
        }
      ],
      "source": [
        "depr_df['Degree'].unique()"
      ]
    },
    {
      "cell_type": "markdown",
      "metadata": {
        "id": "sschevG6qiA8"
      },
      "source": [
        "Here, `Degree` column just has a minor anomaly, which is the presence of additional quotes in value `'Class 12'`"
      ]
    },
    {
      "cell_type": "code",
      "execution_count": 25,
      "metadata": {
        "colab": {
          "base_uri": "https://localhost:8080/"
        },
        "id": "g-F7vJZXq1y_",
        "outputId": "c20a939f-503b-4461-87cf-991cc4b0280c"
      },
      "outputs": [
        {
          "data": {
            "text/plain": [
              "array(['B.Pharm', 'BSc', 'BA', 'BCA', 'M.Tech', 'PhD', 'Class 12', 'B.Ed',\n",
              "       'LLB', 'BE', 'M.Ed', 'MSc', 'BHM', 'M.Pharm', 'MCA', 'MA', 'B.Com',\n",
              "       'MD', 'MBA', 'MBBS', 'M.Com', 'B.Arch', 'LLM', 'B.Tech', 'BBA',\n",
              "       'ME', 'MHM', 'Others'], dtype=object)"
            ]
          },
          "execution_count": 25,
          "metadata": {},
          "output_type": "execute_result"
        }
      ],
      "source": [
        "depr_df['Degree'] = depr_df['Degree'].str.replace(\"'\",\"\")\n",
        "depr_df['Degree'].unique()"
      ]
    },
    {
      "cell_type": "code",
      "execution_count": 26,
      "metadata": {
        "colab": {
          "base_uri": "https://localhost:8080/"
        },
        "id": "cFQ3suBPVbDW",
        "outputId": "314fb081-25d8-408a-f390-aea737be77a1"
      },
      "outputs": [
        {
          "data": {
            "text/plain": [
              "array(['Yes', 'No'], dtype=object)"
            ]
          },
          "execution_count": 26,
          "metadata": {},
          "output_type": "execute_result"
        }
      ],
      "source": [
        "depr_df['Have you ever had suicidal thoughts ?'].unique()"
      ]
    },
    {
      "cell_type": "code",
      "execution_count": 27,
      "metadata": {
        "colab": {
          "base_uri": "https://localhost:8080/"
        },
        "id": "vihaSGIBVh03",
        "outputId": "64cbbc3c-1926-481d-8d55-99925717ca03"
      },
      "outputs": [
        {
          "data": {
            "text/plain": [
              "array(['No', 'Yes'], dtype=object)"
            ]
          },
          "execution_count": 27,
          "metadata": {},
          "output_type": "execute_result"
        }
      ],
      "source": [
        "depr_df['Family History of Mental Illness'].unique()"
      ]
    },
    {
      "cell_type": "markdown",
      "metadata": {
        "id": "yP-woO_rrYTo"
      },
      "source": [
        "The column names of the above 2 columns seems to be longer, so we rename them to a user-friendly version"
      ]
    },
    {
      "cell_type": "code",
      "execution_count": 28,
      "metadata": {
        "id": "aLwcwJQercWP"
      },
      "outputs": [],
      "source": [
        "# Renaming Columns\n",
        "depr_df.rename(columns={\n",
        "    'Have you ever had suicidal thoughts ?': 'SuicidalThoughts',\n",
        "    'Family History of Mental Illness': 'FamilyMentalHistory'\n",
        "}, inplace=True)"
      ]
    },
    {
      "cell_type": "code",
      "execution_count": 29,
      "metadata": {
        "colab": {
          "base_uri": "https://localhost:8080/"
        },
        "id": "1tUubf2VrpOK",
        "outputId": "2bc30bd6-fe23-4977-ef24-cbb776d78ba7"
      },
      "outputs": [
        {
          "data": {
            "text/plain": [
              "Index(['id', 'Gender', 'Age', 'City', 'Profession', 'Academic Pressure',\n",
              "       'Work Pressure', 'CGPA', 'Study Satisfaction', 'Job Satisfaction',\n",
              "       'Sleep Duration', 'Dietary Habits', 'Degree', 'SuicidalThoughts',\n",
              "       'Work/Study Hours', 'Financial Stress', 'FamilyMentalHistory',\n",
              "       'Depression'],\n",
              "      dtype='object')"
            ]
          },
          "execution_count": 29,
          "metadata": {},
          "output_type": "execute_result"
        }
      ],
      "source": [
        "depr_df.columns"
      ]
    },
    {
      "cell_type": "markdown",
      "metadata": {
        "id": "z3otkFEjsFKI"
      },
      "source": [
        "### Numerical Columns Check"
      ]
    },
    {
      "cell_type": "code",
      "execution_count": 30,
      "metadata": {
        "colab": {
          "base_uri": "https://localhost:8080/",
          "height": 300
        },
        "id": "_-KljO6ssJrP",
        "outputId": "b07a4d42-d483-45a1-8f2e-618c2ebd77b5"
      },
      "outputs": [
        {
          "data": {
            "text/html": [
              "<div>\n",
              "<style scoped>\n",
              "    .dataframe tbody tr th:only-of-type {\n",
              "        vertical-align: middle;\n",
              "    }\n",
              "\n",
              "    .dataframe tbody tr th {\n",
              "        vertical-align: top;\n",
              "    }\n",
              "\n",
              "    .dataframe thead th {\n",
              "        text-align: right;\n",
              "    }\n",
              "</style>\n",
              "<table border=\"1\" class=\"dataframe\">\n",
              "  <thead>\n",
              "    <tr style=\"text-align: right;\">\n",
              "      <th></th>\n",
              "      <th>id</th>\n",
              "      <th>Age</th>\n",
              "      <th>Academic Pressure</th>\n",
              "      <th>Work Pressure</th>\n",
              "      <th>CGPA</th>\n",
              "      <th>Study Satisfaction</th>\n",
              "      <th>Job Satisfaction</th>\n",
              "      <th>Work/Study Hours</th>\n",
              "      <th>Depression</th>\n",
              "    </tr>\n",
              "  </thead>\n",
              "  <tbody>\n",
              "    <tr>\n",
              "      <th>count</th>\n",
              "      <td>27845.000000</td>\n",
              "      <td>27845.000000</td>\n",
              "      <td>27845.000000</td>\n",
              "      <td>27845.000000</td>\n",
              "      <td>27845.000000</td>\n",
              "      <td>27845.000000</td>\n",
              "      <td>27845.000000</td>\n",
              "      <td>27845.000000</td>\n",
              "      <td>27845.000000</td>\n",
              "    </tr>\n",
              "    <tr>\n",
              "      <th>mean</th>\n",
              "      <td>70444.165918</td>\n",
              "      <td>25.820794</td>\n",
              "      <td>3.141533</td>\n",
              "      <td>0.000431</td>\n",
              "      <td>7.655971</td>\n",
              "      <td>2.944011</td>\n",
              "      <td>0.000682</td>\n",
              "      <td>7.158700</td>\n",
              "      <td>0.585527</td>\n",
              "    </tr>\n",
              "    <tr>\n",
              "      <th>std</th>\n",
              "      <td>40648.819852</td>\n",
              "      <td>4.906224</td>\n",
              "      <td>1.381731</td>\n",
              "      <td>0.044036</td>\n",
              "      <td>1.470879</td>\n",
              "      <td>1.360917</td>\n",
              "      <td>0.044439</td>\n",
              "      <td>3.707202</td>\n",
              "      <td>0.492640</td>\n",
              "    </tr>\n",
              "    <tr>\n",
              "      <th>min</th>\n",
              "      <td>2.000000</td>\n",
              "      <td>18.000000</td>\n",
              "      <td>0.000000</td>\n",
              "      <td>0.000000</td>\n",
              "      <td>0.000000</td>\n",
              "      <td>0.000000</td>\n",
              "      <td>0.000000</td>\n",
              "      <td>0.000000</td>\n",
              "      <td>0.000000</td>\n",
              "    </tr>\n",
              "    <tr>\n",
              "      <th>25%</th>\n",
              "      <td>35039.000000</td>\n",
              "      <td>21.000000</td>\n",
              "      <td>2.000000</td>\n",
              "      <td>0.000000</td>\n",
              "      <td>6.290000</td>\n",
              "      <td>2.000000</td>\n",
              "      <td>0.000000</td>\n",
              "      <td>4.000000</td>\n",
              "      <td>0.000000</td>\n",
              "    </tr>\n",
              "    <tr>\n",
              "      <th>50%</th>\n",
              "      <td>70700.000000</td>\n",
              "      <td>25.000000</td>\n",
              "      <td>3.000000</td>\n",
              "      <td>0.000000</td>\n",
              "      <td>7.770000</td>\n",
              "      <td>3.000000</td>\n",
              "      <td>0.000000</td>\n",
              "      <td>8.000000</td>\n",
              "      <td>1.000000</td>\n",
              "    </tr>\n",
              "    <tr>\n",
              "      <th>75%</th>\n",
              "      <td>105818.000000</td>\n",
              "      <td>30.000000</td>\n",
              "      <td>4.000000</td>\n",
              "      <td>0.000000</td>\n",
              "      <td>8.920000</td>\n",
              "      <td>4.000000</td>\n",
              "      <td>0.000000</td>\n",
              "      <td>10.000000</td>\n",
              "      <td>1.000000</td>\n",
              "    </tr>\n",
              "    <tr>\n",
              "      <th>max</th>\n",
              "      <td>140699.000000</td>\n",
              "      <td>59.000000</td>\n",
              "      <td>5.000000</td>\n",
              "      <td>5.000000</td>\n",
              "      <td>10.000000</td>\n",
              "      <td>5.000000</td>\n",
              "      <td>4.000000</td>\n",
              "      <td>12.000000</td>\n",
              "      <td>1.000000</td>\n",
              "    </tr>\n",
              "  </tbody>\n",
              "</table>\n",
              "</div>"
            ],
            "text/plain": [
              "                  id           Age  Academic Pressure  Work Pressure  \\\n",
              "count   27845.000000  27845.000000       27845.000000   27845.000000   \n",
              "mean    70444.165918     25.820794           3.141533       0.000431   \n",
              "std     40648.819852      4.906224           1.381731       0.044036   \n",
              "min         2.000000     18.000000           0.000000       0.000000   \n",
              "25%     35039.000000     21.000000           2.000000       0.000000   \n",
              "50%     70700.000000     25.000000           3.000000       0.000000   \n",
              "75%    105818.000000     30.000000           4.000000       0.000000   \n",
              "max    140699.000000     59.000000           5.000000       5.000000   \n",
              "\n",
              "               CGPA  Study Satisfaction  Job Satisfaction  Work/Study Hours  \\\n",
              "count  27845.000000        27845.000000      27845.000000      27845.000000   \n",
              "mean       7.655971            2.944011          0.000682          7.158700   \n",
              "std        1.470879            1.360917          0.044439          3.707202   \n",
              "min        0.000000            0.000000          0.000000          0.000000   \n",
              "25%        6.290000            2.000000          0.000000          4.000000   \n",
              "50%        7.770000            3.000000          0.000000          8.000000   \n",
              "75%        8.920000            4.000000          0.000000         10.000000   \n",
              "max       10.000000            5.000000          4.000000         12.000000   \n",
              "\n",
              "         Depression  \n",
              "count  27845.000000  \n",
              "mean       0.585527  \n",
              "std        0.492640  \n",
              "min        0.000000  \n",
              "25%        0.000000  \n",
              "50%        1.000000  \n",
              "75%        1.000000  \n",
              "max        1.000000  "
            ]
          },
          "execution_count": 30,
          "metadata": {},
          "output_type": "execute_result"
        }
      ],
      "source": [
        "# Summary Statistics\n",
        "depr_df.describe()"
      ]
    },
    {
      "cell_type": "markdown",
      "metadata": {
        "id": "FaxgjxfpUty1"
      },
      "source": [
        "First, the `id` column is dropped as it does not provide any relevant information for the analysis"
      ]
    },
    {
      "cell_type": "code",
      "execution_count": 31,
      "metadata": {
        "colab": {
          "base_uri": "https://localhost:8080/"
        },
        "id": "04YjOhElUtlu",
        "outputId": "2a581485-3d3d-4e61-a4b3-6476f54290d5"
      },
      "outputs": [
        {
          "data": {
            "text/plain": [
              "Index(['Gender', 'Age', 'City', 'Profession', 'Academic Pressure',\n",
              "       'Work Pressure', 'CGPA', 'Study Satisfaction', 'Job Satisfaction',\n",
              "       'Sleep Duration', 'Dietary Habits', 'Degree', 'SuicidalThoughts',\n",
              "       'Work/Study Hours', 'Financial Stress', 'FamilyMentalHistory',\n",
              "       'Depression'],\n",
              "      dtype='object')"
            ]
          },
          "execution_count": 31,
          "metadata": {},
          "output_type": "execute_result"
        }
      ],
      "source": [
        "depr_df.drop(columns='id', inplace=True)\n",
        "depr_df.columns"
      ]
    },
    {
      "cell_type": "markdown",
      "metadata": {
        "id": "6M4K-1JW5C0h"
      },
      "source": [
        "From the summary statistics, both `Work Pressure` and `Job Satisfaction` have near-zero mean and very low standard deviation.\n",
        "This suggests extreme skewness toward zero, warranting further inspection of their value distribution."
      ]
    },
    {
      "cell_type": "code",
      "execution_count": 32,
      "metadata": {
        "colab": {
          "base_uri": "https://localhost:8080/",
          "height": 209
        },
        "id": "XYRv4gqd3WHk",
        "outputId": "4caa2f0a-f9a2-4c85-8c84-f017809421e3"
      },
      "outputs": [
        {
          "data": {
            "text/plain": [
              "Work Pressure\n",
              "0.0    99.99\n",
              "5.0     0.01\n",
              "2.0     0.00\n",
              "Name: proportion, dtype: float64"
            ]
          },
          "execution_count": 32,
          "metadata": {},
          "output_type": "execute_result"
        }
      ],
      "source": [
        "# Check Work Pressure column\n",
        "(depr_df['Work Pressure'].value_counts(normalize=True) * 100).round(2)"
      ]
    },
    {
      "cell_type": "code",
      "execution_count": 33,
      "metadata": {
        "colab": {
          "base_uri": "https://localhost:8080/",
          "height": 272
        },
        "id": "h3lzABAh3l4W",
        "outputId": "6b096621-644a-4557-a330-2d89b8775453"
      },
      "outputs": [
        {
          "data": {
            "text/plain": [
              "Job Satisfaction\n",
              "0.0    99.97\n",
              "2.0     0.01\n",
              "4.0     0.01\n",
              "1.0     0.01\n",
              "3.0     0.00\n",
              "Name: proportion, dtype: float64"
            ]
          },
          "execution_count": 33,
          "metadata": {},
          "output_type": "execute_result"
        }
      ],
      "source": [
        "# Check Job Satisfaction column\n",
        "(depr_df['Job Satisfaction'].value_counts(normalize=True) * 100).round(2)"
      ]
    },
    {
      "cell_type": "markdown",
      "metadata": {
        "id": "NoEDQCTQ38_6"
      },
      "source": [
        "The `Work Pressure` and `Job Satisfaction` columns show extreme imbalance, with ~99.9% values concentrated at 0.\n",
        "Such skewed distribution limits their predictive power and may require removal or special handling."
      ]
    },
    {
      "cell_type": "markdown",
      "metadata": {
        "id": "4Ajg85C3M1at"
      },
      "source": [
        "Also, we discussed about `Profession` column having less frequency for other jobs than `Student`, and a possible correlation with these 2 columns. Let us explore"
      ]
    },
    {
      "cell_type": "code",
      "execution_count": 34,
      "metadata": {
        "colab": {
          "base_uri": "https://localhost:8080/",
          "height": 363
        },
        "id": "NYWBSPjaMZwA",
        "outputId": "d430ecbf-39a5-452f-b9f2-ac048b594c50"
      },
      "outputs": [
        {
          "data": {
            "text/html": [
              "<div>\n",
              "<style scoped>\n",
              "    .dataframe tbody tr th:only-of-type {\n",
              "        vertical-align: middle;\n",
              "    }\n",
              "\n",
              "    .dataframe tbody tr th {\n",
              "        vertical-align: top;\n",
              "    }\n",
              "\n",
              "    .dataframe thead th {\n",
              "        text-align: right;\n",
              "    }\n",
              "</style>\n",
              "<table border=\"1\" class=\"dataframe\">\n",
              "  <thead>\n",
              "    <tr style=\"text-align: right;\">\n",
              "      <th></th>\n",
              "      <th>Profession</th>\n",
              "      <th>Work Pressure</th>\n",
              "      <th>Job Satisfaction</th>\n",
              "    </tr>\n",
              "  </thead>\n",
              "  <tbody>\n",
              "    <tr>\n",
              "      <th>4365</th>\n",
              "      <td>Student</td>\n",
              "      <td>5.0</td>\n",
              "      <td>4.0</td>\n",
              "    </tr>\n",
              "    <tr>\n",
              "      <th>25746</th>\n",
              "      <td>Student</td>\n",
              "      <td>5.0</td>\n",
              "      <td>4.0</td>\n",
              "    </tr>\n",
              "    <tr>\n",
              "      <th>14855</th>\n",
              "      <td>Student</td>\n",
              "      <td>2.0</td>\n",
              "      <td>1.0</td>\n",
              "    </tr>\n",
              "    <tr>\n",
              "      <th>292</th>\n",
              "      <td>Student</td>\n",
              "      <td>0.0</td>\n",
              "      <td>3.0</td>\n",
              "    </tr>\n",
              "    <tr>\n",
              "      <th>13909</th>\n",
              "      <td>Student</td>\n",
              "      <td>0.0</td>\n",
              "      <td>2.0</td>\n",
              "    </tr>\n",
              "    <tr>\n",
              "      <th>23141</th>\n",
              "      <td>Student</td>\n",
              "      <td>0.0</td>\n",
              "      <td>2.0</td>\n",
              "    </tr>\n",
              "    <tr>\n",
              "      <th>26719</th>\n",
              "      <td>Student</td>\n",
              "      <td>0.0</td>\n",
              "      <td>2.0</td>\n",
              "    </tr>\n",
              "    <tr>\n",
              "      <th>20913</th>\n",
              "      <td>Student</td>\n",
              "      <td>0.0</td>\n",
              "      <td>1.0</td>\n",
              "    </tr>\n",
              "    <tr>\n",
              "      <th>0</th>\n",
              "      <td>Student</td>\n",
              "      <td>0.0</td>\n",
              "      <td>0.0</td>\n",
              "    </tr>\n",
              "    <tr>\n",
              "      <th>1</th>\n",
              "      <td>Student</td>\n",
              "      <td>0.0</td>\n",
              "      <td>0.0</td>\n",
              "    </tr>\n",
              "  </tbody>\n",
              "</table>\n",
              "</div>"
            ],
            "text/plain": [
              "      Profession  Work Pressure  Job Satisfaction\n",
              "4365     Student            5.0               4.0\n",
              "25746    Student            5.0               4.0\n",
              "14855    Student            2.0               1.0\n",
              "292      Student            0.0               3.0\n",
              "13909    Student            0.0               2.0\n",
              "23141    Student            0.0               2.0\n",
              "26719    Student            0.0               2.0\n",
              "20913    Student            0.0               1.0\n",
              "0        Student            0.0               0.0\n",
              "1        Student            0.0               0.0"
            ]
          },
          "execution_count": 34,
          "metadata": {},
          "output_type": "execute_result"
        }
      ],
      "source": [
        "# Selecting Profession, Work Pressure and Job Saisfaction columns and arranging them in descending order by Work Pressure and Job Satisfaction columns\n",
        "depr_df.loc[:,['Profession','Work Pressure','Job Satisfaction']].sort_values(by=['Work Pressure','Job Satisfaction'],ascending=[False,False]).head(10)"
      ]
    },
    {
      "cell_type": "markdown",
      "metadata": {
        "id": "eZTBXx8VRCQD"
      },
      "source": [
        "Well, looks like only the **Students**, that too only 8 of them have either `Work Pressure` or `Job Satisfaction` !!!\n",
        "\n",
        "Then what is the scenario for other Professions?"
      ]
    },
    {
      "cell_type": "code",
      "execution_count": 35,
      "metadata": {
        "colab": {
          "base_uri": "https://localhost:8080/",
          "height": 1000
        },
        "id": "AFcI_ijFPC5C",
        "outputId": "6403761a-e04b-4aff-c0da-cd58198ddfc2"
      },
      "outputs": [
        {
          "data": {
            "text/html": [
              "<div>\n",
              "<style scoped>\n",
              "    .dataframe tbody tr th:only-of-type {\n",
              "        vertical-align: middle;\n",
              "    }\n",
              "\n",
              "    .dataframe tbody tr th {\n",
              "        vertical-align: top;\n",
              "    }\n",
              "\n",
              "    .dataframe thead th {\n",
              "        text-align: right;\n",
              "    }\n",
              "</style>\n",
              "<table border=\"1\" class=\"dataframe\">\n",
              "  <thead>\n",
              "    <tr style=\"text-align: right;\">\n",
              "      <th></th>\n",
              "      <th>Profession</th>\n",
              "      <th>Work Pressure</th>\n",
              "      <th>Job Satisfaction</th>\n",
              "    </tr>\n",
              "  </thead>\n",
              "  <tbody>\n",
              "    <tr>\n",
              "      <th>113</th>\n",
              "      <td>Civil Engineer</td>\n",
              "      <td>0.0</td>\n",
              "      <td>0.0</td>\n",
              "    </tr>\n",
              "    <tr>\n",
              "      <th>422</th>\n",
              "      <td>Architect</td>\n",
              "      <td>0.0</td>\n",
              "      <td>0.0</td>\n",
              "    </tr>\n",
              "    <tr>\n",
              "      <th>1845</th>\n",
              "      <td>UX/UI Designer</td>\n",
              "      <td>0.0</td>\n",
              "      <td>0.0</td>\n",
              "    </tr>\n",
              "    <tr>\n",
              "      <th>2249</th>\n",
              "      <td>Digital Marketer</td>\n",
              "      <td>0.0</td>\n",
              "      <td>0.0</td>\n",
              "    </tr>\n",
              "    <tr>\n",
              "      <th>2440</th>\n",
              "      <td>Content Writer</td>\n",
              "      <td>0.0</td>\n",
              "      <td>0.0</td>\n",
              "    </tr>\n",
              "    <tr>\n",
              "      <th>3220</th>\n",
              "      <td>Architect</td>\n",
              "      <td>0.0</td>\n",
              "      <td>0.0</td>\n",
              "    </tr>\n",
              "    <tr>\n",
              "      <th>3388</th>\n",
              "      <td>Architect</td>\n",
              "      <td>0.0</td>\n",
              "      <td>0.0</td>\n",
              "    </tr>\n",
              "    <tr>\n",
              "      <th>3639</th>\n",
              "      <td>Educational Consultant</td>\n",
              "      <td>0.0</td>\n",
              "      <td>0.0</td>\n",
              "    </tr>\n",
              "    <tr>\n",
              "      <th>3841</th>\n",
              "      <td>Teacher</td>\n",
              "      <td>0.0</td>\n",
              "      <td>0.0</td>\n",
              "    </tr>\n",
              "    <tr>\n",
              "      <th>5016</th>\n",
              "      <td>Teacher</td>\n",
              "      <td>0.0</td>\n",
              "      <td>0.0</td>\n",
              "    </tr>\n",
              "    <tr>\n",
              "      <th>8537</th>\n",
              "      <td>Manager</td>\n",
              "      <td>0.0</td>\n",
              "      <td>0.0</td>\n",
              "    </tr>\n",
              "    <tr>\n",
              "      <th>12124</th>\n",
              "      <td>Chef</td>\n",
              "      <td>0.0</td>\n",
              "      <td>0.0</td>\n",
              "    </tr>\n",
              "    <tr>\n",
              "      <th>12350</th>\n",
              "      <td>Content Writer</td>\n",
              "      <td>0.0</td>\n",
              "      <td>0.0</td>\n",
              "    </tr>\n",
              "    <tr>\n",
              "      <th>14352</th>\n",
              "      <td>Architect</td>\n",
              "      <td>0.0</td>\n",
              "      <td>0.0</td>\n",
              "    </tr>\n",
              "    <tr>\n",
              "      <th>15472</th>\n",
              "      <td>Doctor</td>\n",
              "      <td>0.0</td>\n",
              "      <td>0.0</td>\n",
              "    </tr>\n",
              "    <tr>\n",
              "      <th>16108</th>\n",
              "      <td>Lawyer</td>\n",
              "      <td>0.0</td>\n",
              "      <td>0.0</td>\n",
              "    </tr>\n",
              "    <tr>\n",
              "      <th>17550</th>\n",
              "      <td>Chef</td>\n",
              "      <td>0.0</td>\n",
              "      <td>0.0</td>\n",
              "    </tr>\n",
              "    <tr>\n",
              "      <th>17585</th>\n",
              "      <td>Doctor</td>\n",
              "      <td>0.0</td>\n",
              "      <td>0.0</td>\n",
              "    </tr>\n",
              "    <tr>\n",
              "      <th>18213</th>\n",
              "      <td>Architect</td>\n",
              "      <td>0.0</td>\n",
              "      <td>0.0</td>\n",
              "    </tr>\n",
              "    <tr>\n",
              "      <th>20568</th>\n",
              "      <td>Digital Marketer</td>\n",
              "      <td>0.0</td>\n",
              "      <td>0.0</td>\n",
              "    </tr>\n",
              "    <tr>\n",
              "      <th>20801</th>\n",
              "      <td>Entrepreneur</td>\n",
              "      <td>0.0</td>\n",
              "      <td>0.0</td>\n",
              "    </tr>\n",
              "    <tr>\n",
              "      <th>20872</th>\n",
              "      <td>Teacher</td>\n",
              "      <td>0.0</td>\n",
              "      <td>0.0</td>\n",
              "    </tr>\n",
              "    <tr>\n",
              "      <th>22178</th>\n",
              "      <td>Architect</td>\n",
              "      <td>0.0</td>\n",
              "      <td>0.0</td>\n",
              "    </tr>\n",
              "    <tr>\n",
              "      <th>24121</th>\n",
              "      <td>Teacher</td>\n",
              "      <td>0.0</td>\n",
              "      <td>0.0</td>\n",
              "    </tr>\n",
              "    <tr>\n",
              "      <th>24482</th>\n",
              "      <td>Teacher</td>\n",
              "      <td>0.0</td>\n",
              "      <td>0.0</td>\n",
              "    </tr>\n",
              "    <tr>\n",
              "      <th>25219</th>\n",
              "      <td>Pharmacist</td>\n",
              "      <td>0.0</td>\n",
              "      <td>0.0</td>\n",
              "    </tr>\n",
              "    <tr>\n",
              "      <th>25335</th>\n",
              "      <td>Architect</td>\n",
              "      <td>0.0</td>\n",
              "      <td>0.0</td>\n",
              "    </tr>\n",
              "    <tr>\n",
              "      <th>25689</th>\n",
              "      <td>Digital Marketer</td>\n",
              "      <td>0.0</td>\n",
              "      <td>0.0</td>\n",
              "    </tr>\n",
              "    <tr>\n",
              "      <th>26289</th>\n",
              "      <td>Teacher</td>\n",
              "      <td>0.0</td>\n",
              "      <td>0.0</td>\n",
              "    </tr>\n",
              "    <tr>\n",
              "      <th>27109</th>\n",
              "      <td>Pharmacist</td>\n",
              "      <td>0.0</td>\n",
              "      <td>0.0</td>\n",
              "    </tr>\n",
              "    <tr>\n",
              "      <th>27873</th>\n",
              "      <td>Architect</td>\n",
              "      <td>0.0</td>\n",
              "      <td>0.0</td>\n",
              "    </tr>\n",
              "  </tbody>\n",
              "</table>\n",
              "</div>"
            ],
            "text/plain": [
              "                   Profession  Work Pressure  Job Satisfaction\n",
              "113            Civil Engineer            0.0               0.0\n",
              "422                 Architect            0.0               0.0\n",
              "1845           UX/UI Designer            0.0               0.0\n",
              "2249         Digital Marketer            0.0               0.0\n",
              "2440           Content Writer            0.0               0.0\n",
              "3220                Architect            0.0               0.0\n",
              "3388                Architect            0.0               0.0\n",
              "3639   Educational Consultant            0.0               0.0\n",
              "3841                  Teacher            0.0               0.0\n",
              "5016                  Teacher            0.0               0.0\n",
              "8537                  Manager            0.0               0.0\n",
              "12124                    Chef            0.0               0.0\n",
              "12350          Content Writer            0.0               0.0\n",
              "14352               Architect            0.0               0.0\n",
              "15472                  Doctor            0.0               0.0\n",
              "16108                  Lawyer            0.0               0.0\n",
              "17550                    Chef            0.0               0.0\n",
              "17585                  Doctor            0.0               0.0\n",
              "18213               Architect            0.0               0.0\n",
              "20568        Digital Marketer            0.0               0.0\n",
              "20801            Entrepreneur            0.0               0.0\n",
              "20872                 Teacher            0.0               0.0\n",
              "22178               Architect            0.0               0.0\n",
              "24121                 Teacher            0.0               0.0\n",
              "24482                 Teacher            0.0               0.0\n",
              "25219              Pharmacist            0.0               0.0\n",
              "25335               Architect            0.0               0.0\n",
              "25689        Digital Marketer            0.0               0.0\n",
              "26289                 Teacher            0.0               0.0\n",
              "27109              Pharmacist            0.0               0.0\n",
              "27873               Architect            0.0               0.0"
            ]
          },
          "execution_count": 35,
          "metadata": {},
          "output_type": "execute_result"
        }
      ],
      "source": [
        "# Excluding student records and selecting Profession, Work Pressure and Job Saisfaction columns\n",
        "depr_df[~depr_df['Profession'].isin(['Student'])].loc[:,['Profession','Work Pressure','Job Satisfaction']]"
      ]
    },
    {
      "cell_type": "code",
      "execution_count": 36,
      "metadata": {
        "colab": {
          "base_uri": "https://localhost:8080/"
        },
        "id": "wz7QFDHgSx0y",
        "outputId": "cc20d7fd-5629-4a7e-b19b-5bbe3afc15ed"
      },
      "outputs": [
        {
          "data": {
            "text/plain": [
              "(31, 3)"
            ]
          },
          "execution_count": 36,
          "metadata": {},
          "output_type": "execute_result"
        }
      ],
      "source": [
        "depr_df[~depr_df['Profession'].isin(['Student'])].loc[:,['Profession','Work Pressure','Job Satisfaction']].shape"
      ]
    },
    {
      "cell_type": "markdown",
      "metadata": {
        "id": "9cf-57AVSP9e"
      },
      "source": [
        "Out of 31 records who have another profession, none of them are subject to `Work Pressure` and `Job Satisfaction`.\n",
        "\n",
        "Hence, we will restrict our analysis to student records only, and drop the `Profession`, `Work Pressure`, and `Job Satisfaction` columns."
      ]
    },
    {
      "cell_type": "code",
      "execution_count": 37,
      "metadata": {
        "colab": {
          "base_uri": "https://localhost:8080/"
        },
        "id": "-VYm0UovTqKD",
        "outputId": "d74a1528-f738-4b7b-eb06-215f84e570b4"
      },
      "outputs": [
        {
          "name": "stdout",
          "output_type": "stream",
          "text": [
            "Updated shape: (27814, 14)\n"
          ]
        },
        {
          "data": {
            "text/plain": [
              "Index(['Gender', 'Age', 'City', 'Academic Pressure', 'CGPA',\n",
              "       'Study Satisfaction', 'Sleep Duration', 'Dietary Habits', 'Degree',\n",
              "       'SuicidalThoughts', 'Work/Study Hours', 'Financial Stress',\n",
              "       'FamilyMentalHistory', 'Depression'],\n",
              "      dtype='object')"
            ]
          },
          "execution_count": 37,
          "metadata": {},
          "output_type": "execute_result"
        }
      ],
      "source": [
        "# Subsetting only student records and dropping Profession, Work Pressure and Job Satisfaction\n",
        "depr_df = depr_df[depr_df['Profession'] == 'Student'].copy()\n",
        "depr_df.drop(columns=['Profession','Work Pressure','Job Satisfaction'], inplace=True)\n",
        "print(\"Updated shape:\",depr_df.shape)\n",
        "depr_df.columns"
      ]
    },
    {
      "cell_type": "code",
      "execution_count": 38,
      "metadata": {
        "colab": {
          "base_uri": "https://localhost:8080/",
          "height": 300
        },
        "id": "aB_im6zfWaT1",
        "outputId": "150b0782-397c-4bd3-cd49-96b4e5b9d61c"
      },
      "outputs": [
        {
          "data": {
            "text/html": [
              "<div>\n",
              "<style scoped>\n",
              "    .dataframe tbody tr th:only-of-type {\n",
              "        vertical-align: middle;\n",
              "    }\n",
              "\n",
              "    .dataframe tbody tr th {\n",
              "        vertical-align: top;\n",
              "    }\n",
              "\n",
              "    .dataframe thead th {\n",
              "        text-align: right;\n",
              "    }\n",
              "</style>\n",
              "<table border=\"1\" class=\"dataframe\">\n",
              "  <thead>\n",
              "    <tr style=\"text-align: right;\">\n",
              "      <th></th>\n",
              "      <th>Age</th>\n",
              "      <th>Academic Pressure</th>\n",
              "      <th>CGPA</th>\n",
              "      <th>Study Satisfaction</th>\n",
              "      <th>Work/Study Hours</th>\n",
              "      <th>Depression</th>\n",
              "    </tr>\n",
              "  </thead>\n",
              "  <tbody>\n",
              "    <tr>\n",
              "      <th>count</th>\n",
              "      <td>27814.000000</td>\n",
              "      <td>27814.000000</td>\n",
              "      <td>27814.000000</td>\n",
              "      <td>27814.000000</td>\n",
              "      <td>27814.000000</td>\n",
              "      <td>27814.000000</td>\n",
              "    </tr>\n",
              "    <tr>\n",
              "      <th>mean</th>\n",
              "      <td>25.819623</td>\n",
              "      <td>3.140936</td>\n",
              "      <td>7.655894</td>\n",
              "      <td>2.943733</td>\n",
              "      <td>7.159668</td>\n",
              "      <td>0.585173</td>\n",
              "    </tr>\n",
              "    <tr>\n",
              "      <th>std</th>\n",
              "      <td>4.907112</td>\n",
              "      <td>1.381907</td>\n",
              "      <td>1.471007</td>\n",
              "      <td>1.360978</td>\n",
              "      <td>3.706737</td>\n",
              "      <td>0.492701</td>\n",
              "    </tr>\n",
              "    <tr>\n",
              "      <th>min</th>\n",
              "      <td>18.000000</td>\n",
              "      <td>0.000000</td>\n",
              "      <td>0.000000</td>\n",
              "      <td>0.000000</td>\n",
              "      <td>0.000000</td>\n",
              "      <td>0.000000</td>\n",
              "    </tr>\n",
              "    <tr>\n",
              "      <th>25%</th>\n",
              "      <td>21.000000</td>\n",
              "      <td>2.000000</td>\n",
              "      <td>6.280000</td>\n",
              "      <td>2.000000</td>\n",
              "      <td>4.000000</td>\n",
              "      <td>0.000000</td>\n",
              "    </tr>\n",
              "    <tr>\n",
              "      <th>50%</th>\n",
              "      <td>25.000000</td>\n",
              "      <td>3.000000</td>\n",
              "      <td>7.770000</td>\n",
              "      <td>3.000000</td>\n",
              "      <td>8.000000</td>\n",
              "      <td>1.000000</td>\n",
              "    </tr>\n",
              "    <tr>\n",
              "      <th>75%</th>\n",
              "      <td>30.000000</td>\n",
              "      <td>4.000000</td>\n",
              "      <td>8.920000</td>\n",
              "      <td>4.000000</td>\n",
              "      <td>10.000000</td>\n",
              "      <td>1.000000</td>\n",
              "    </tr>\n",
              "    <tr>\n",
              "      <th>max</th>\n",
              "      <td>59.000000</td>\n",
              "      <td>5.000000</td>\n",
              "      <td>10.000000</td>\n",
              "      <td>5.000000</td>\n",
              "      <td>12.000000</td>\n",
              "      <td>1.000000</td>\n",
              "    </tr>\n",
              "  </tbody>\n",
              "</table>\n",
              "</div>"
            ],
            "text/plain": [
              "                Age  Academic Pressure          CGPA  Study Satisfaction  \\\n",
              "count  27814.000000       27814.000000  27814.000000        27814.000000   \n",
              "mean      25.819623           3.140936      7.655894            2.943733   \n",
              "std        4.907112           1.381907      1.471007            1.360978   \n",
              "min       18.000000           0.000000      0.000000            0.000000   \n",
              "25%       21.000000           2.000000      6.280000            2.000000   \n",
              "50%       25.000000           3.000000      7.770000            3.000000   \n",
              "75%       30.000000           4.000000      8.920000            4.000000   \n",
              "max       59.000000           5.000000     10.000000            5.000000   \n",
              "\n",
              "       Work/Study Hours    Depression  \n",
              "count      27814.000000  27814.000000  \n",
              "mean           7.159668      0.585173  \n",
              "std            3.706737      0.492701  \n",
              "min            0.000000      0.000000  \n",
              "25%            4.000000      0.000000  \n",
              "50%            8.000000      1.000000  \n",
              "75%           10.000000      1.000000  \n",
              "max           12.000000      1.000000  "
            ]
          },
          "execution_count": 38,
          "metadata": {},
          "output_type": "execute_result"
        }
      ],
      "source": [
        "# Revisit summary statistics\n",
        "depr_df.describe()"
      ]
    },
    {
      "cell_type": "markdown",
      "metadata": {
        "id": "nprhyq1_vg-H"
      },
      "source": [
        "<!-- Also, observe that `Financial Stress` column is missing from the summary statistics. <br> -->\n",
        "Coming back to the summary statistics, notice that `Financial Stress` column is missing.<br>\n",
        "This is because, it has an `object` datatype, indicating that the values are stored as strings rather than numerical types — even though they represent float values."
      ]
    },
    {
      "cell_type": "code",
      "execution_count": 39,
      "metadata": {
        "colab": {
          "base_uri": "https://localhost:8080/"
        },
        "id": "w7t7btwPrqDv",
        "outputId": "02011507-7c8d-4bbe-e71c-1f64eddeed9e"
      },
      "outputs": [
        {
          "data": {
            "text/plain": [
              "dtype('O')"
            ]
          },
          "execution_count": 39,
          "metadata": {},
          "output_type": "execute_result"
        }
      ],
      "source": [
        "# Check datatype of Financial Stress column\n",
        "depr_df['Financial Stress'].dtype"
      ]
    },
    {
      "cell_type": "code",
      "execution_count": 40,
      "metadata": {
        "colab": {
          "base_uri": "https://localhost:8080/"
        },
        "id": "ZK-xFEs1wNjk",
        "outputId": "efef67e6-bc34-47a9-ca4a-92950e937bb4"
      },
      "outputs": [
        {
          "name": "stdout",
          "output_type": "stream",
          "text": [
            "could not convert string to float: '?'\n"
          ]
        }
      ],
      "source": [
        "# Converting string to float using astype()\n",
        "try:\n",
        "  depr_df['Financial Stress'] = depr_df['Financial Stress'].astype(float)\n",
        "except ValueError as e:\n",
        "  print(e)"
      ]
    },
    {
      "cell_type": "markdown",
      "metadata": {
        "id": "COG-AnPpwdQQ"
      },
      "source": [
        "Although `astype()` should have worked for converting strings to floats, it raised an error due to the presence of an invalid entry `'?'`\n",
        "\n",
        "To confirm this, the unique method was used to inspect all distinct values in the column."
      ]
    },
    {
      "cell_type": "code",
      "execution_count": 41,
      "metadata": {
        "colab": {
          "base_uri": "https://localhost:8080/"
        },
        "id": "X_QhU2fWvRiX",
        "outputId": "4859224f-c007-4f51-c717-523c29c9cd5a"
      },
      "outputs": [
        {
          "data": {
            "text/plain": [
              "array(['1.0', '2.0', '5.0', '3.0', '4.0', '?'], dtype=object)"
            ]
          },
          "execution_count": 41,
          "metadata": {},
          "output_type": "execute_result"
        }
      ],
      "source": [
        "depr_df['Financial Stress'].unique()"
      ]
    },
    {
      "cell_type": "code",
      "execution_count": 42,
      "metadata": {
        "colab": {
          "base_uri": "https://localhost:8080/",
          "height": 303
        },
        "id": "n0eYffMGx13b",
        "outputId": "644a7c59-8791-457d-b925-fda3cd45a4d7"
      },
      "outputs": [
        {
          "data": {
            "text/plain": [
              "Financial Stress\n",
              "5.0    6690\n",
              "4.0    5764\n",
              "3.0    5210\n",
              "1.0    5101\n",
              "2.0    5046\n",
              "?         3\n",
              "Name: count, dtype: int64"
            ]
          },
          "execution_count": 42,
          "metadata": {},
          "output_type": "execute_result"
        }
      ],
      "source": [
        "# Check no. of instances of '?'\n",
        "depr_df['Financial Stress'].value_counts()"
      ]
    },
    {
      "cell_type": "markdown",
      "metadata": {
        "id": "_anfwofGxvMU"
      },
      "source": [
        "As only 3 records contained the value of `'?'`, they are removed"
      ]
    },
    {
      "cell_type": "code",
      "execution_count": 43,
      "metadata": {
        "colab": {
          "base_uri": "https://localhost:8080/"
        },
        "id": "VYrs2NvNyc5E",
        "outputId": "339be55f-3c04-4623-f2e1-3d044ab74a30"
      },
      "outputs": [
        {
          "data": {
            "text/plain": [
              "(27811, 14)"
            ]
          },
          "execution_count": 43,
          "metadata": {},
          "output_type": "execute_result"
        }
      ],
      "source": [
        "# Removing rows with '?'\n",
        "depr_df = depr_df[depr_df['Financial Stress'] != '?'].copy()\n",
        "depr_df.shape"
      ]
    },
    {
      "cell_type": "markdown",
      "metadata": {
        "id": "nE4A9v-4y-gQ"
      },
      "source": [
        "Now the conversion of `Financial Stress` column from `object` to `float` is tried again using `astype()`"
      ]
    },
    {
      "cell_type": "code",
      "execution_count": 44,
      "metadata": {
        "id": "IjLZurdszUiZ"
      },
      "outputs": [],
      "source": [
        "# Converting string to float using astype()\n",
        "try:\n",
        "  depr_df['Financial Stress'] = depr_df['Financial Stress'].astype(float)\n",
        "except ValueError as e:\n",
        "  print(e)"
      ]
    },
    {
      "cell_type": "code",
      "execution_count": 45,
      "metadata": {
        "colab": {
          "base_uri": "https://localhost:8080/"
        },
        "id": "B3OVcW5szX85",
        "outputId": "32d84359-42ae-480b-be40-65b1fc487a6e"
      },
      "outputs": [
        {
          "data": {
            "text/plain": [
              "dtype('float64')"
            ]
          },
          "execution_count": 45,
          "metadata": {},
          "output_type": "execute_result"
        }
      ],
      "source": [
        "# Check Datatype of Financial Stress column\n",
        "depr_df['Financial Stress'].dtype"
      ]
    },
    {
      "cell_type": "code",
      "execution_count": 46,
      "metadata": {
        "colab": {
          "base_uri": "https://localhost:8080/",
          "height": 272
        },
        "id": "SDj2c9AH2Fhz",
        "outputId": "351571bd-9eae-4072-b4c9-b09c46f957dc"
      },
      "outputs": [
        {
          "data": {
            "text/plain": [
              "Financial Stress\n",
              "1.0    5101\n",
              "2.0    5046\n",
              "3.0    5210\n",
              "4.0    5764\n",
              "5.0    6690\n",
              "Name: count, dtype: int64"
            ]
          },
          "execution_count": 46,
          "metadata": {},
          "output_type": "execute_result"
        }
      ],
      "source": [
        "# Verify changes in distribution\n",
        "depr_df['Financial Stress'].value_counts().sort_index()"
      ]
    },
    {
      "cell_type": "markdown",
      "metadata": {
        "id": "ntUQPOs2H3D_"
      },
      "source": [
        "Now let us check `Study Satisfaction` column. Well, it looks like only 10 students aren't satisfied with studying.<br>\n",
        "The `Study Satisfaction` column contains 10 rare occurrences of the value `0`, which is inconsistent with the rest of the data that ranges from 1 to 5."
      ]
    },
    {
      "cell_type": "code",
      "execution_count": 47,
      "metadata": {
        "colab": {
          "base_uri": "https://localhost:8080/",
          "height": 303
        },
        "id": "zwX37dVg3634",
        "outputId": "e17fe077-7150-4c39-9e13-1ccb2a660fb3"
      },
      "outputs": [
        {
          "data": {
            "text/plain": [
              "Study Satisfaction\n",
              "4.0    6337\n",
              "2.0    5822\n",
              "3.0    5805\n",
              "1.0    5430\n",
              "5.0    4407\n",
              "0.0      10\n",
              "Name: count, dtype: int64"
            ]
          },
          "execution_count": 47,
          "metadata": {},
          "output_type": "execute_result"
        }
      ],
      "source": [
        "# Check Study Satisfaction column\n",
        "depr_df['Study Satisfaction'].value_counts()"
      ]
    },
    {
      "cell_type": "markdown",
      "metadata": {
        "id": "nW6Zvy9cHpIb"
      },
      "source": [
        "Similarly, there are only 9 students with no `Academic Pressure` at all <br>\n",
        "The `Academic Pressure` column includes 9 records with a value of `0`, which deviates from the otherwise consistent 1–5 pattern observed.\n"
      ]
    },
    {
      "cell_type": "code",
      "execution_count": 48,
      "metadata": {
        "colab": {
          "base_uri": "https://localhost:8080/",
          "height": 303
        },
        "id": "DiYceKwg4NqR",
        "outputId": "c3df1dd6-4495-4355-e484-4593b89ecc63"
      },
      "outputs": [
        {
          "data": {
            "text/plain": [
              "Academic Pressure\n",
              "3.0    7432\n",
              "5.0    6278\n",
              "4.0    5139\n",
              "1.0    4792\n",
              "2.0    4161\n",
              "0.0       9\n",
              "Name: count, dtype: int64"
            ]
          },
          "execution_count": 48,
          "metadata": {},
          "output_type": "execute_result"
        }
      ],
      "source": [
        "# Check Study Satisfaction column\n",
        "depr_df['Academic Pressure'].value_counts()"
      ]
    },
    {
      "cell_type": "markdown",
      "metadata": {
        "id": "mm0xGtmxJQw6"
      },
      "source": [
        "Thus, records containing `0` in either `Study Satisfaction` or `Academic Pressure` are removed to maintain consistency and avoid ambiguity in further analysis.\n"
      ]
    },
    {
      "cell_type": "code",
      "execution_count": 49,
      "metadata": {
        "colab": {
          "base_uri": "https://localhost:8080/"
        },
        "id": "Wg2gWPvAJQij",
        "outputId": "f38e0888-59a1-4ef8-ad99-95d16432c3f9"
      },
      "outputs": [
        {
          "data": {
            "text/plain": [
              "(27799, 14)"
            ]
          },
          "execution_count": 49,
          "metadata": {},
          "output_type": "execute_result"
        }
      ],
      "source": [
        "# Remove rows with 0 in either Study Satisfaction or Academic Pressure\n",
        "depr_df = depr_df[(depr_df['Study Satisfaction'] != 0) & (depr_df['Academic Pressure'] != 0)].copy()\n",
        "depr_df.shape"
      ]
    },
    {
      "cell_type": "markdown",
      "metadata": {
        "id": "48NB90lUOX5K"
      },
      "source": [
        "#### **Summary**\n",
        "\n",
        "All ordinal categorical columns such as `Financial Stress`, `Academic Pressure`, and `Study Satisfaction` were checked for anomalies (e.g., invalid 0s or placeholders like '?') and cleaned accordingly.  \n",
        "Continuous numerical variables including `Age`, `CGPA`, and `Work/Study Hours` would be reviewed in EDA stage for outliers and data integrity.\n",
        "\n",
        "The variables `Profession`, `Work Pressure`, and `Job Satisfaction` were excluded from the dataset due to high imbalance and near-zero variance, rendering them uninformative for modeling.\n",
        "\n",
        "Further exploration of continuous variable distributions and outlier detection will be performed in the subsequent EDA section."
      ]
    },
    {
      "cell_type": "markdown",
      "metadata": {
        "id": "CooRNcoENiE7"
      },
      "source": [
        "### **Exploratory Data Analysis**"
      ]
    },
    {
      "cell_type": "markdown",
      "metadata": {
        "id": "cyxyl0Vl6Piq"
      },
      "source": [
        "### Summary Statistics"
      ]
    },
    {
      "cell_type": "code",
      "execution_count": 50,
      "metadata": {
        "colab": {
          "base_uri": "https://localhost:8080/",
          "height": 300
        },
        "id": "YBOr8yKR1X-4",
        "outputId": "161f8e6f-156c-4964-d6b1-1dff27c9183e"
      },
      "outputs": [
        {
          "data": {
            "text/html": [
              "<div>\n",
              "<style scoped>\n",
              "    .dataframe tbody tr th:only-of-type {\n",
              "        vertical-align: middle;\n",
              "    }\n",
              "\n",
              "    .dataframe tbody tr th {\n",
              "        vertical-align: top;\n",
              "    }\n",
              "\n",
              "    .dataframe thead th {\n",
              "        text-align: right;\n",
              "    }\n",
              "</style>\n",
              "<table border=\"1\" class=\"dataframe\">\n",
              "  <thead>\n",
              "    <tr style=\"text-align: right;\">\n",
              "      <th></th>\n",
              "      <th>Age</th>\n",
              "      <th>Academic Pressure</th>\n",
              "      <th>CGPA</th>\n",
              "      <th>Study Satisfaction</th>\n",
              "      <th>Work/Study Hours</th>\n",
              "      <th>Financial Stress</th>\n",
              "      <th>Depression</th>\n",
              "    </tr>\n",
              "  </thead>\n",
              "  <tbody>\n",
              "    <tr>\n",
              "      <th>count</th>\n",
              "      <td>27799.000000</td>\n",
              "      <td>27799.000000</td>\n",
              "      <td>27799.000000</td>\n",
              "      <td>27799.000000</td>\n",
              "      <td>27799.000000</td>\n",
              "      <td>27799.000000</td>\n",
              "      <td>27799.000000</td>\n",
              "    </tr>\n",
              "    <tr>\n",
              "      <th>mean</th>\n",
              "      <td>25.819670</td>\n",
              "      <td>3.141912</td>\n",
              "      <td>7.658133</td>\n",
              "      <td>2.944962</td>\n",
              "      <td>7.160042</td>\n",
              "      <td>3.139969</td>\n",
              "      <td>0.585201</td>\n",
              "    </tr>\n",
              "    <tr>\n",
              "      <th>std</th>\n",
              "      <td>4.905925</td>\n",
              "      <td>1.380947</td>\n",
              "      <td>1.466093</td>\n",
              "      <td>1.360087</td>\n",
              "      <td>3.706268</td>\n",
              "      <td>1.437030</td>\n",
              "      <td>0.492696</td>\n",
              "    </tr>\n",
              "    <tr>\n",
              "      <th>min</th>\n",
              "      <td>18.000000</td>\n",
              "      <td>1.000000</td>\n",
              "      <td>0.000000</td>\n",
              "      <td>1.000000</td>\n",
              "      <td>0.000000</td>\n",
              "      <td>1.000000</td>\n",
              "      <td>0.000000</td>\n",
              "    </tr>\n",
              "    <tr>\n",
              "      <th>25%</th>\n",
              "      <td>21.000000</td>\n",
              "      <td>2.000000</td>\n",
              "      <td>6.290000</td>\n",
              "      <td>2.000000</td>\n",
              "      <td>4.000000</td>\n",
              "      <td>2.000000</td>\n",
              "      <td>0.000000</td>\n",
              "    </tr>\n",
              "    <tr>\n",
              "      <th>50%</th>\n",
              "      <td>25.000000</td>\n",
              "      <td>3.000000</td>\n",
              "      <td>7.770000</td>\n",
              "      <td>3.000000</td>\n",
              "      <td>8.000000</td>\n",
              "      <td>3.000000</td>\n",
              "      <td>1.000000</td>\n",
              "    </tr>\n",
              "    <tr>\n",
              "      <th>75%</th>\n",
              "      <td>30.000000</td>\n",
              "      <td>4.000000</td>\n",
              "      <td>8.920000</td>\n",
              "      <td>4.000000</td>\n",
              "      <td>10.000000</td>\n",
              "      <td>4.000000</td>\n",
              "      <td>1.000000</td>\n",
              "    </tr>\n",
              "    <tr>\n",
              "      <th>max</th>\n",
              "      <td>59.000000</td>\n",
              "      <td>5.000000</td>\n",
              "      <td>10.000000</td>\n",
              "      <td>5.000000</td>\n",
              "      <td>12.000000</td>\n",
              "      <td>5.000000</td>\n",
              "      <td>1.000000</td>\n",
              "    </tr>\n",
              "  </tbody>\n",
              "</table>\n",
              "</div>"
            ],
            "text/plain": [
              "                Age  Academic Pressure          CGPA  Study Satisfaction  \\\n",
              "count  27799.000000       27799.000000  27799.000000        27799.000000   \n",
              "mean      25.819670           3.141912      7.658133            2.944962   \n",
              "std        4.905925           1.380947      1.466093            1.360087   \n",
              "min       18.000000           1.000000      0.000000            1.000000   \n",
              "25%       21.000000           2.000000      6.290000            2.000000   \n",
              "50%       25.000000           3.000000      7.770000            3.000000   \n",
              "75%       30.000000           4.000000      8.920000            4.000000   \n",
              "max       59.000000           5.000000     10.000000            5.000000   \n",
              "\n",
              "       Work/Study Hours  Financial Stress    Depression  \n",
              "count      27799.000000      27799.000000  27799.000000  \n",
              "mean           7.160042          3.139969      0.585201  \n",
              "std            3.706268          1.437030      0.492696  \n",
              "min            0.000000          1.000000      0.000000  \n",
              "25%            4.000000          2.000000      0.000000  \n",
              "50%            8.000000          3.000000      1.000000  \n",
              "75%           10.000000          4.000000      1.000000  \n",
              "max           12.000000          5.000000      1.000000  "
            ]
          },
          "execution_count": 50,
          "metadata": {},
          "output_type": "execute_result"
        }
      ],
      "source": [
        "# Check summary statistics\n",
        "depr_df.describe()"
      ]
    },
    {
      "cell_type": "code",
      "execution_count": 51,
      "metadata": {
        "colab": {
          "base_uri": "https://localhost:8080/",
          "height": 206
        },
        "id": "9ShSJHIK9jg6",
        "outputId": "a0fa5ceb-0bb3-4544-ba54-c059f0461d90"
      },
      "outputs": [
        {
          "data": {
            "text/html": [
              "<div>\n",
              "<style scoped>\n",
              "    .dataframe tbody tr th:only-of-type {\n",
              "        vertical-align: middle;\n",
              "    }\n",
              "\n",
              "    .dataframe tbody tr th {\n",
              "        vertical-align: top;\n",
              "    }\n",
              "\n",
              "    .dataframe thead th {\n",
              "        text-align: right;\n",
              "    }\n",
              "</style>\n",
              "<table border=\"1\" class=\"dataframe\">\n",
              "  <thead>\n",
              "    <tr style=\"text-align: right;\">\n",
              "      <th></th>\n",
              "      <th>Gender</th>\n",
              "      <th>Age</th>\n",
              "      <th>City</th>\n",
              "      <th>Academic Pressure</th>\n",
              "      <th>CGPA</th>\n",
              "      <th>Study Satisfaction</th>\n",
              "      <th>Sleep Duration</th>\n",
              "      <th>Dietary Habits</th>\n",
              "      <th>Degree</th>\n",
              "      <th>SuicidalThoughts</th>\n",
              "      <th>Work/Study Hours</th>\n",
              "      <th>Financial Stress</th>\n",
              "      <th>FamilyMentalHistory</th>\n",
              "      <th>Depression</th>\n",
              "    </tr>\n",
              "  </thead>\n",
              "  <tbody>\n",
              "    <tr>\n",
              "      <th>0</th>\n",
              "      <td>Male</td>\n",
              "      <td>33.0</td>\n",
              "      <td>Visakhapatnam</td>\n",
              "      <td>5.0</td>\n",
              "      <td>8.97</td>\n",
              "      <td>2.0</td>\n",
              "      <td>5-6 hours</td>\n",
              "      <td>Healthy</td>\n",
              "      <td>B.Pharm</td>\n",
              "      <td>Yes</td>\n",
              "      <td>3.0</td>\n",
              "      <td>1.0</td>\n",
              "      <td>No</td>\n",
              "      <td>1</td>\n",
              "    </tr>\n",
              "    <tr>\n",
              "      <th>1</th>\n",
              "      <td>Female</td>\n",
              "      <td>24.0</td>\n",
              "      <td>Bangalore</td>\n",
              "      <td>2.0</td>\n",
              "      <td>5.90</td>\n",
              "      <td>5.0</td>\n",
              "      <td>5-6 hours</td>\n",
              "      <td>Moderate</td>\n",
              "      <td>BSc</td>\n",
              "      <td>No</td>\n",
              "      <td>3.0</td>\n",
              "      <td>2.0</td>\n",
              "      <td>Yes</td>\n",
              "      <td>0</td>\n",
              "    </tr>\n",
              "    <tr>\n",
              "      <th>2</th>\n",
              "      <td>Male</td>\n",
              "      <td>31.0</td>\n",
              "      <td>Srinagar</td>\n",
              "      <td>3.0</td>\n",
              "      <td>7.03</td>\n",
              "      <td>5.0</td>\n",
              "      <td>Less than 5 hours</td>\n",
              "      <td>Healthy</td>\n",
              "      <td>BA</td>\n",
              "      <td>No</td>\n",
              "      <td>9.0</td>\n",
              "      <td>1.0</td>\n",
              "      <td>Yes</td>\n",
              "      <td>0</td>\n",
              "    </tr>\n",
              "    <tr>\n",
              "      <th>3</th>\n",
              "      <td>Female</td>\n",
              "      <td>28.0</td>\n",
              "      <td>Varanasi</td>\n",
              "      <td>3.0</td>\n",
              "      <td>5.59</td>\n",
              "      <td>2.0</td>\n",
              "      <td>7-8 hours</td>\n",
              "      <td>Moderate</td>\n",
              "      <td>BCA</td>\n",
              "      <td>Yes</td>\n",
              "      <td>4.0</td>\n",
              "      <td>5.0</td>\n",
              "      <td>Yes</td>\n",
              "      <td>1</td>\n",
              "    </tr>\n",
              "    <tr>\n",
              "      <th>4</th>\n",
              "      <td>Female</td>\n",
              "      <td>25.0</td>\n",
              "      <td>Jaipur</td>\n",
              "      <td>4.0</td>\n",
              "      <td>8.13</td>\n",
              "      <td>3.0</td>\n",
              "      <td>5-6 hours</td>\n",
              "      <td>Moderate</td>\n",
              "      <td>M.Tech</td>\n",
              "      <td>Yes</td>\n",
              "      <td>1.0</td>\n",
              "      <td>1.0</td>\n",
              "      <td>No</td>\n",
              "      <td>0</td>\n",
              "    </tr>\n",
              "  </tbody>\n",
              "</table>\n",
              "</div>"
            ],
            "text/plain": [
              "   Gender   Age           City  Academic Pressure  CGPA  Study Satisfaction  \\\n",
              "0    Male  33.0  Visakhapatnam                5.0  8.97                 2.0   \n",
              "1  Female  24.0      Bangalore                2.0  5.90                 5.0   \n",
              "2    Male  31.0       Srinagar                3.0  7.03                 5.0   \n",
              "3  Female  28.0       Varanasi                3.0  5.59                 2.0   \n",
              "4  Female  25.0         Jaipur                4.0  8.13                 3.0   \n",
              "\n",
              "      Sleep Duration Dietary Habits   Degree SuicidalThoughts  \\\n",
              "0          5-6 hours        Healthy  B.Pharm              Yes   \n",
              "1          5-6 hours       Moderate      BSc               No   \n",
              "2  Less than 5 hours        Healthy       BA               No   \n",
              "3          7-8 hours       Moderate      BCA              Yes   \n",
              "4          5-6 hours       Moderate   M.Tech              Yes   \n",
              "\n",
              "   Work/Study Hours  Financial Stress FamilyMentalHistory  Depression  \n",
              "0               3.0               1.0                  No           1  \n",
              "1               3.0               2.0                 Yes           0  \n",
              "2               9.0               1.0                 Yes           0  \n",
              "3               4.0               5.0                 Yes           1  \n",
              "4               1.0               1.0                  No           0  "
            ]
          },
          "execution_count": 51,
          "metadata": {},
          "output_type": "execute_result"
        }
      ],
      "source": [
        "depr_df.head()"
      ]
    },
    {
      "cell_type": "markdown",
      "metadata": {
        "id": "hpEVCr576SZl"
      },
      "source": [
        "### Univariate Analysis"
      ]
    },
    {
      "cell_type": "code",
      "execution_count": 52,
      "metadata": {
        "colab": {
          "base_uri": "https://localhost:8080/"
        },
        "id": "H2KLOM8h6XWZ",
        "outputId": "eec4d87b-76b8-4e1e-d3e1-8cfca1064c95"
      },
      "outputs": [
        {
          "data": {
            "text/plain": [
              "Index(['Gender', 'Age', 'City', 'Academic Pressure', 'CGPA',\n",
              "       'Study Satisfaction', 'Sleep Duration', 'Dietary Habits', 'Degree',\n",
              "       'SuicidalThoughts', 'Work/Study Hours', 'Financial Stress',\n",
              "       'FamilyMentalHistory', 'Depression'],\n",
              "      dtype='object')"
            ]
          },
          "execution_count": 52,
          "metadata": {},
          "output_type": "execute_result"
        }
      ],
      "source": [
        "depr_df.columns"
      ]
    },
    {
      "cell_type": "code",
      "execution_count": 53,
      "metadata": {
        "colab": {
          "base_uri": "https://localhost:8080/",
          "height": 537
        },
        "id": "HAXaX9gcVasq",
        "outputId": "6e9147cc-978f-4c52-96ca-1afc63661399"
      },
      "outputs": [
        {
          "data": {
            "text/plain": [
              "([<matplotlib.patches.Wedge at 0x2324a502090>,\n",
              "  <matplotlib.patches.Wedge at 0x2324a11be30>],\n",
              " [Text(-0.19677777050769837, 1.0822562122870998, 'Male'),\n",
              "  Text(0.19677777050769846, -1.0822562122870998, 'Female')],\n",
              " [Text(-0.10733332936783546, 0.5903215703384179, '55.7%'),\n",
              "  Text(0.1073333293678355, -0.5903215703384179, '44.3%')])"
            ]
          },
          "execution_count": 53,
          "metadata": {},
          "output_type": "execute_result"
        },
        {
          "data": {
            "image/png": "[encoded data removed]",
            "text/plain": [
              "<Figure size 640x480 with 1 Axes>"
            ]
          },
          "metadata": {},
          "output_type": "display_data"
        }
      ],
      "source": [
        "# Gender\n",
        "\n",
        "plt.title('Gender Proportions')\n",
        "plt.pie(depr_df['Gender'].value_counts(), labels=depr_df['Gender'].unique(), autopct='%1.1f%%')"
      ]
    },
    {
      "cell_type": "markdown",
      "metadata": {},
      "source": [
        "**Males** are slightly higher in number than **Females** with a ratio of approximately **56:44**"
      ]
    },
    {
      "cell_type": "code",
      "execution_count": 54,
      "metadata": {},
      "outputs": [
        {
          "data": {
            "image/png": "[encoded data removed]",
            "text/plain": [
              "<Figure size 1000x800 with 2 Axes>"
            ]
          },
          "metadata": {},
          "output_type": "display_data"
        }
      ],
      "source": [
        "# Age Distribution and Boxplot\n",
        "\n",
        "fig, axs = plt.subplots(2, 1, figsize=(10, 8))\n",
        "\n",
        "# Histogram with KDE\n",
        "sns.histplot(depr_df['Age'], bins=9, kde=True, ax=axs[0])\n",
        "axs[0].set_title(\"Age Distribution\")\n",
        "axs[0].set_xlim(18, 50)\n",
        "\n",
        "# Boxplot\n",
        "sns.boxplot(data=depr_df, x='Age', ax=axs[1])\n",
        "axs[1].set_title(\"Age Spread and Outliers\")\n",
        "\n",
        "plt.tight_layout()\n",
        "plt.show()\n"
      ]
    },
    {
      "cell_type": "markdown",
      "metadata": {},
      "source": [
        "The majority of students are between **early 20s** and **early 30s**, with a few older students above 40 considered **outliers**. No extreme young ages were observed"
      ]
    },
    {
      "cell_type": "code",
      "execution_count": 55,
      "metadata": {},
      "outputs": [
        {
          "data": {
            "image/png": "[encoded data removed]",
            "text/plain": [
              "<Figure size 1100x700 with 2 Axes>"
            ]
          },
          "metadata": {},
          "output_type": "display_data"
        }
      ],
      "source": [
        "# Top 5 and Bottom 5 Cities\n",
        "\n",
        "city_counts = depr_df['City'].value_counts()\n",
        "\n",
        "top5_cities = city_counts.head(5)\n",
        "bottom5_cities = city_counts.tail(5).sort_values(ascending=True)\n",
        "\n",
        "fig, ax = plt.subplots(2, 1, figsize=(11, 7))\n",
        "\n",
        "sns.barplot(x=top5_cities.values, y=top5_cities.index, ax=ax[0], hue=top5_cities.index, palette=\"flare_r\")\n",
        "ax[0].set_title(\"Top 5 Most Represented Cities\")\n",
        "ax[0].set_xlabel(\"Number of Students\")\n",
        "ax[0].set_ylabel(\"City\")\n",
        "\n",
        "for i, v in enumerate(top5_cities.values):\n",
        "    ax[0].text(v + 10, i, str(v), color='black', va='center')\n",
        "\n",
        "sns.barplot(x=bottom5_cities.values, y=bottom5_cities.index, ax=ax[1], hue=bottom5_cities.index, palette=\"flare\")\n",
        "ax[1].set_title(\"Bottom 5 Least Represented Cities\")\n",
        "ax[1].set_xlabel(\"Number of Students\")\n",
        "ax[1].set_ylabel(\"City\")\n",
        "\n",
        "for i, v in enumerate(bottom5_cities.values):\n",
        "    ax[1].text(v + 10, i, str(v), color='black', va='center')\n",
        "\n",
        "plt.tight_layout()\n",
        "plt.show()\n"
      ]
    },
    {
      "cell_type": "markdown",
      "metadata": {},
      "source": [
        "**Kalyan** has the highest number of students (**1,563**), followed by **Srinagar** (**1,370**) and **Hyderabad** (**1,337**),  \n",
        "whereas **Faridabad** (**459**), **Nashik** (**547**), and **Kanpur** (**606**) have the least representation."
      ]
    },
    {
      "cell_type": "code",
      "execution_count": 56,
      "metadata": {
        "colab": {
          "base_uri": "https://localhost:8080/",
          "height": 467
        },
        "id": "umRYH2AM-Grm",
        "outputId": "200eff97-e201-44ae-f398-8156485f9c99"
      },
      "outputs": [
        {
          "data": {
            "text/plain": [
              "Text(0, 0.5, 'Number of Students')"
            ]
          },
          "execution_count": 56,
          "metadata": {},
          "output_type": "execute_result"
        },
        {
          "data": {
            "image/png": "[encoded data removed]",
            "text/plain": [
              "<Figure size 640x480 with 1 Axes>"
            ]
          },
          "metadata": {},
          "output_type": "display_data"
        }
      ],
      "source": [
        "# Academic Pressure Category Distribution\n",
        "\n",
        "sns.countplot(data=depr_df, x='Academic Pressure', hue='Academic Pressure', palette='viridis', legend=False)\n",
        "plt.title(\"Categorical Distribution of Academic Pressure\")\n",
        "plt.xlabel(\"Academic Pressure Level\")\n",
        "plt.ylabel(\"Number of Students\")"
      ]
    },
    {
      "cell_type": "markdown",
      "metadata": {},
      "source": [
        "Majority of students report moderate to high academic pressure (3–5)"
      ]
    },
    {
      "cell_type": "code",
      "execution_count": 57,
      "metadata": {},
      "outputs": [
        {
          "data": {
            "image/png": "[encoded data removed]",
            "text/plain": [
              "<Figure size 640x480 with 1 Axes>"
            ]
          },
          "metadata": {},
          "output_type": "display_data"
        }
      ],
      "source": [
        "# Sleep Duration Proportions\n",
        "\n",
        "colors = sns.color_palette(\"Blues\", n_colors=len(depr_df['Sleep Duration'].unique()))\n",
        "\n",
        "sleep_counts = depr_df['Sleep Duration'].value_counts().sort_index()\n",
        "\n",
        "explode = [0, 0, 0.1, 0]\n",
        "plt.pie(sleep_counts, labels=sleep_counts.index, autopct='%1.1f%%',\n",
        "        colors=colors, explode=explode)\n",
        "plt.axis('equal')\n",
        "plt.title(\"Categorical Proportions of Sleep Duration\")\n",
        "plt.show()\n"
      ]
    },
    {
      "cell_type": "markdown",
      "metadata": {},
      "source": [
        "Almost **30%** of the students, sleep `Less than 5 hours`, making it the most common sleep duration among all categories, followed by `7-8 hours` with approximately **26%**"
      ]
    },
    {
      "cell_type": "code",
      "execution_count": 58,
      "metadata": {},
      "outputs": [
        {
          "data": {
            "text/plain": [
              "<Axes: xlabel='FamilyMentalHistory', ylabel='count'>"
            ]
          },
          "execution_count": 58,
          "metadata": {},
          "output_type": "execute_result"
        },
        {
          "data": {
            "image/png": "[encoded data removed]",
            "text/plain": [
              "<Figure size 640x480 with 1 Axes>"
            ]
          },
          "metadata": {},
          "output_type": "display_data"
        }
      ],
      "source": [
        "order = [\"Yes\", \"No\"]\n",
        "palette = {\"Yes\": \"#1f77b4\", \"No\": \"#ff7f0e\"}\n",
        "\n",
        "sns.countplot(\n",
        "    data=depr_df,\n",
        "    x=\"FamilyMentalHistory\",\n",
        "    order=order,\n",
        "    hue=\"FamilyMentalHistory\",\n",
        "    palette=palette,\n",
        "    legend=False\n",
        ")"
      ]
    },
    {
      "cell_type": "markdown",
      "metadata": {},
      "source": [
        "Responses for family mental health history are almost evenly split, with slightly more students reporting no history compared to those who do."
      ]
    },
    {
      "cell_type": "code",
      "execution_count": 59,
      "metadata": {},
      "outputs": [
        {
          "data": {
            "image/png": "[encoded data removed]",
            "text/plain": [
              "<Figure size 640x480 with 1 Axes>"
            ]
          },
          "metadata": {},
          "output_type": "display_data"
        }
      ],
      "source": [
        "plt.pie(\n",
        "    depr_df['SuicidalThoughts'].value_counts(),\n",
        "    labels=depr_df['SuicidalThoughts'].unique(),\n",
        "    autopct='%1.1f%%',\n",
        "    colors=[\"#d62728\", \"#2ca02c\"],\n",
        ")\n",
        "plt.title(\"Suicidal Thoughts Proportions\")\n",
        "plt.show()"
      ]
    },
    {
      "cell_type": "markdown",
      "metadata": {},
      "source": [
        "Almost **63%** of the students reported having `Suicidal Thoughts`! indicating it is the majority response"
      ]
    },
    {
      "cell_type": "code",
      "execution_count": 60,
      "metadata": {},
      "outputs": [
        {
          "data": {
            "image/png": "[encoded data removed]",
            "text/plain": [
              "<Figure size 800x800 with 2 Axes>"
            ]
          },
          "metadata": {},
          "output_type": "display_data"
        }
      ],
      "source": [
        "fig, axs = plt.subplots(2, 1, figsize=(8, 8))\n",
        "\n",
        "sns.histplot(data=depr_df, x='CGPA', bins=10, kde=True, ax=axs[0])\n",
        "axs[0].set_title(\"CGPA Distribution\")\n",
        "\n",
        "sns.boxplot(data=depr_df, x='CGPA', ax=axs[1])\n",
        "axs[1].set_title(\"CGPA Boxplot\")\n",
        "\n",
        "plt.tight_layout()\n",
        "plt.show()\n"
      ]
    },
    {
      "cell_type": "markdown",
      "metadata": {},
      "source": [
        "While the common range of CGPA is from approx 6 to 9, we have an outlier at 0, which is unrealistic for a student.\n",
        "So we further check the dataframe"
      ]
    },
    {
      "cell_type": "code",
      "execution_count": 61,
      "metadata": {},
      "outputs": [
        {
          "data": {
            "text/html": [
              "<div>\n",
              "<style scoped>\n",
              "    .dataframe tbody tr th:only-of-type {\n",
              "        vertical-align: middle;\n",
              "    }\n",
              "\n",
              "    .dataframe tbody tr th {\n",
              "        vertical-align: top;\n",
              "    }\n",
              "\n",
              "    .dataframe thead th {\n",
              "        text-align: right;\n",
              "    }\n",
              "</style>\n",
              "<table border=\"1\" class=\"dataframe\">\n",
              "  <thead>\n",
              "    <tr style=\"text-align: right;\">\n",
              "      <th></th>\n",
              "      <th>Gender</th>\n",
              "      <th>Age</th>\n",
              "      <th>City</th>\n",
              "      <th>Academic Pressure</th>\n",
              "      <th>CGPA</th>\n",
              "      <th>Study Satisfaction</th>\n",
              "      <th>Sleep Duration</th>\n",
              "      <th>Dietary Habits</th>\n",
              "      <th>Degree</th>\n",
              "      <th>SuicidalThoughts</th>\n",
              "      <th>Work/Study Hours</th>\n",
              "      <th>Financial Stress</th>\n",
              "      <th>FamilyMentalHistory</th>\n",
              "      <th>Depression</th>\n",
              "    </tr>\n",
              "  </thead>\n",
              "  <tbody>\n",
              "    <tr>\n",
              "      <th>10407</th>\n",
              "      <td>Male</td>\n",
              "      <td>28.0</td>\n",
              "      <td>Vadodara</td>\n",
              "      <td>3.0</td>\n",
              "      <td>0.0</td>\n",
              "      <td>4.0</td>\n",
              "      <td>Less than 5 hours</td>\n",
              "      <td>Healthy</td>\n",
              "      <td>BBA</td>\n",
              "      <td>No</td>\n",
              "      <td>12.0</td>\n",
              "      <td>2.0</td>\n",
              "      <td>No</td>\n",
              "      <td>0</td>\n",
              "    </tr>\n",
              "    <tr>\n",
              "      <th>21805</th>\n",
              "      <td>Male</td>\n",
              "      <td>34.0</td>\n",
              "      <td>Pune</td>\n",
              "      <td>1.0</td>\n",
              "      <td>0.0</td>\n",
              "      <td>5.0</td>\n",
              "      <td>Less than 5 hours</td>\n",
              "      <td>Unhealthy</td>\n",
              "      <td>M.Ed</td>\n",
              "      <td>Yes</td>\n",
              "      <td>10.0</td>\n",
              "      <td>3.0</td>\n",
              "      <td>Yes</td>\n",
              "      <td>0</td>\n",
              "    </tr>\n",
              "  </tbody>\n",
              "</table>\n",
              "</div>"
            ],
            "text/plain": [
              "      Gender   Age      City  Academic Pressure  CGPA  Study Satisfaction  \\\n",
              "10407   Male  28.0  Vadodara                3.0   0.0                 4.0   \n",
              "21805   Male  34.0      Pune                1.0   0.0                 5.0   \n",
              "\n",
              "          Sleep Duration Dietary Habits Degree SuicidalThoughts  \\\n",
              "10407  Less than 5 hours        Healthy    BBA               No   \n",
              "21805  Less than 5 hours      Unhealthy   M.Ed              Yes   \n",
              "\n",
              "       Work/Study Hours  Financial Stress FamilyMentalHistory  Depression  \n",
              "10407              12.0               2.0                  No           0  \n",
              "21805              10.0               3.0                 Yes           0  "
            ]
          },
          "execution_count": 61,
          "metadata": {},
          "output_type": "execute_result"
        }
      ],
      "source": [
        "# Checking outliers in CGPA\n",
        "\n",
        "depr_df[depr_df['CGPA']<2]"
      ]
    },
    {
      "cell_type": "markdown",
      "metadata": {},
      "source": [
        "Looks like 2 students, either forgot to fill in the CGPA or they really did get 0.0 CGPA! As there are only 2 records, we drop them"
      ]
    },
    {
      "cell_type": "code",
      "execution_count": 62,
      "metadata": {},
      "outputs": [
        {
          "data": {
            "text/plain": [
              "(27797, 14)"
            ]
          },
          "execution_count": 62,
          "metadata": {},
          "output_type": "execute_result"
        }
      ],
      "source": [
        "# Removing rows with CGPA equal to 0\n",
        "\n",
        "depr_df = depr_df[depr_df['CGPA']!=0].copy()\n",
        "depr_df.shape"
      ]
    },
    {
      "cell_type": "code",
      "execution_count": 63,
      "metadata": {},
      "outputs": [
        {
          "data": {
            "image/png": "[encoded data removed]",
            "text/plain": [
              "<Figure size 800x800 with 2 Axes>"
            ]
          },
          "metadata": {},
          "output_type": "display_data"
        }
      ],
      "source": [
        "# Re-plotting CGPA Distribution and Boxplot after removing outliers\n",
        "fig, axs = plt.subplots(2, 1, figsize=(8, 8))\n",
        "\n",
        "sns.histplot(data=depr_df, x='CGPA', bins=5, kde=True, ax=axs[0])\n",
        "axs[0].set_title(\"CGPA Distribution\")\n",
        "\n",
        "sns.boxplot(data=depr_df, x='CGPA', ax=axs[1])\n",
        "axs[1].set_title(\"CGPA Boxplot\")\n",
        "\n",
        "plt.tight_layout()\n",
        "plt.show()"
      ]
    },
    {
      "cell_type": "markdown",
      "metadata": {},
      "source": [
        "Now, we can observe the refined plots after excluding outliers.\n",
        "\n",
        "Thus the `CGPA` distribution is primarily **between 6 and 9**, with a median around **8**."
      ]
    },
    {
      "cell_type": "code",
      "execution_count": 64,
      "metadata": {
        "colab": {
          "base_uri": "https://localhost:8080/",
          "height": 467
        },
        "id": "PCbNkyfEAAwo",
        "outputId": "9b700e09-9676-4d37-d61c-cce8815ece30"
      },
      "outputs": [
        {
          "data": {
            "text/plain": [
              "Text(0.5, 1.0, 'Categorical Distribution of Work/Study Hours')"
            ]
          },
          "execution_count": 64,
          "metadata": {},
          "output_type": "execute_result"
        },
        {
          "data": {
            "image/png": "[encoded data removed]",
            "text/plain": [
              "<Figure size 640x480 with 1 Axes>"
            ]
          },
          "metadata": {},
          "output_type": "display_data"
        }
      ],
      "source": [
        "# Categorical Distribution of Work/Study Hours\n",
        "\n",
        "sns.countplot(data=depr_df, x='Work/Study Hours')\n",
        "plt.title(\"Categorical Distribution of Work/Study Hours\")"
      ]
    },
    {
      "cell_type": "markdown",
      "metadata": {},
      "source": [
        "The distribution of Work/Study Hours spans 13 individual categories, which limits pattern recognition and interpretability.  \n",
        "Grouping these hours into broader ranges (e.g., **0–4**, **5–8**, **9–12**) would provide clearer and more actionable insights."
      ]
    },
    {
      "cell_type": "code",
      "execution_count": 65,
      "metadata": {},
      "outputs": [
        {
          "data": {
            "image/png": "[encoded data removed]",
            "text/plain": [
              "<Figure size 640x480 with 1 Axes>"
            ]
          },
          "metadata": {},
          "output_type": "display_data"
        }
      ],
      "source": [
        "bins = [-1, 4, 8, 12]\n",
        "labels = ['Low (≤4 hrs)', 'Moderate (5-8 hrs)', 'High (≥9 hrs)']\n",
        "depr_df['Work/Study Category'] = pd.cut(depr_df['Work/Study Hours'], bins=bins, labels=labels)\n",
        "\n",
        "sns.countplot(data=depr_df, x='Work/Study Category', order=labels, palette='flare', hue='Work/Study Category', legend=False)\n",
        "plt.title(\"Categorical Distribution of Work/Study Hours\")\n",
        "plt.show()\n"
      ]
    },
    {
      "cell_type": "code",
      "execution_count": 66,
      "metadata": {},
      "outputs": [
        {
          "data": {
            "text/plain": [
              "Text(0.5, 1.0, 'Work/Study Hours Proportions')"
            ]
          },
          "execution_count": 66,
          "metadata": {},
          "output_type": "execute_result"
        },
        {
          "data": {
            "image/png": "[encoded data removed]",
            "text/plain": [
              "<Figure size 640x480 with 1 Axes>"
            ]
          },
          "metadata": {},
          "output_type": "display_data"
        }
      ],
      "source": [
        "# Pie-chart visualization of Work/Study Hours Proportions\n",
        "\n",
        "colors = sns.color_palette(\"flare_r\", n_colors=len(depr_df['Work/Study Category'].unique()))\n",
        "\n",
        "plt.pie(\n",
        "    depr_df['Work/Study Category'].value_counts(),\n",
        "    labels=depr_df['Work/Study Category'].unique().sort_values(ascending=False),\n",
        "    autopct='%1.1f%%',\n",
        "    explode=(0.1, 0, 0),\n",
        "    colors=colors\n",
        ")\n",
        "plt.title(\"Work/Study Hours Proportions\")"
      ]
    },
    {
      "cell_type": "markdown",
      "metadata": {},
      "source": [
        "A significant number of students (**>12,000**) report studying for **9 or more hours daily**, indicating a high academic workload for a large portion of the population."
      ]
    },
    {
      "cell_type": "code",
      "execution_count": 67,
      "metadata": {
        "colab": {
          "base_uri": "https://localhost:8080/",
          "height": 467
        },
        "id": "ewhfRh8FF9CH",
        "outputId": "728956de-b819-4ad2-88d7-bb3b3193ba6c"
      },
      "outputs": [
        {
          "data": {
            "text/plain": [
              "Text(0.5, 1.0, 'Categorical Distribution of Dietary Habits')"
            ]
          },
          "execution_count": 67,
          "metadata": {},
          "output_type": "execute_result"
        },
        {
          "data": {
            "image/png": "[encoded data removed]",
            "text/plain": [
              "<Figure size 640x480 with 1 Axes>"
            ]
          },
          "metadata": {},
          "output_type": "display_data"
        }
      ],
      "source": [
        "# Categorical Distribution of Dietary Habits\n",
        "\n",
        "palette = {\n",
        "    \"Healthy\": \"#2ca02c\",   # green\n",
        "    \"Moderate\": \"#ffbf00\",  # yellow\n",
        "    \"Unhealthy\": \"#d62728\"  # red\n",
        "}\n",
        "\n",
        "sns.countplot(data=depr_df, y='Dietary Habits',palette=palette, hue='Dietary Habits', legend=False)\n",
        "plt.title(\"Categorical Distribution of Dietary Habits\")"
      ]
    },
    {
      "cell_type": "markdown",
      "metadata": {},
      "source": [
        "Over **10000+** students are following a `Unhealthy` dietary routine, making it the most common among them."
      ]
    },
    {
      "cell_type": "markdown",
      "metadata": {},
      "source": [
        "#### **Summary**\n",
        "\n",
        "The univariate analysis shows that:\n",
        "- Students generally fall in typical academic age and CGPA ranges.\n",
        "- Sleep and diet patterns highlight possible lifestyle concerns (low sleep, unhealthy eating).\n",
        "- A significant proportion report suicidal thoughts, which may require deeper analysis in relation to other variables."
      ]
    },
    {
      "cell_type": "markdown",
      "metadata": {
        "id": "ZAZo-gfP6UfO"
      },
      "source": [
        "### Bivariate Analysis"
      ]
    },
    {
      "cell_type": "code",
      "execution_count": 68,
      "metadata": {},
      "outputs": [
        {
          "name": "stdout",
          "output_type": "stream",
          "text": [
            "<class 'pandas.core.frame.DataFrame'>\n",
            "Index: 27797 entries, 0 to 27900\n",
            "Data columns (total 15 columns):\n",
            " #   Column               Non-Null Count  Dtype   \n",
            "---  ------               --------------  -----   \n",
            " 0   Gender               27797 non-null  object  \n",
            " 1   Age                  27797 non-null  float64 \n",
            " 2   City                 27797 non-null  object  \n",
            " 3   Academic Pressure    27797 non-null  float64 \n",
            " 4   CGPA                 27797 non-null  float64 \n",
            " 5   Study Satisfaction   27797 non-null  float64 \n",
            " 6   Sleep Duration       27797 non-null  object  \n",
            " 7   Dietary Habits       27797 non-null  object  \n",
            " 8   Degree               27797 non-null  object  \n",
            " 9   SuicidalThoughts     27797 non-null  object  \n",
            " 10  Work/Study Hours     27797 non-null  float64 \n",
            " 11  Financial Stress     27797 non-null  float64 \n",
            " 12  FamilyMentalHistory  27797 non-null  object  \n",
            " 13  Depression           27797 non-null  int64   \n",
            " 14  Work/Study Category  27797 non-null  category\n",
            "dtypes: category(1), float64(6), int64(1), object(7)\n",
            "memory usage: 3.2+ MB\n"
          ]
        }
      ],
      "source": [
        "depr_df.info()"
      ]
    },
    {
      "cell_type": "code",
      "execution_count": 82,
      "metadata": {},
      "outputs": [
        {
          "data": {
            "text/html": [
              "<div>\n",
              "<style scoped>\n",
              "    .dataframe tbody tr th:only-of-type {\n",
              "        vertical-align: middle;\n",
              "    }\n",
              "\n",
              "    .dataframe tbody tr th {\n",
              "        vertical-align: top;\n",
              "    }\n",
              "\n",
              "    .dataframe thead th {\n",
              "        text-align: right;\n",
              "    }\n",
              "</style>\n",
              "<table border=\"1\" class=\"dataframe\">\n",
              "  <thead>\n",
              "    <tr style=\"text-align: right;\">\n",
              "      <th></th>\n",
              "      <th>Gender</th>\n",
              "      <th>Age</th>\n",
              "      <th>City</th>\n",
              "      <th>Academic Pressure</th>\n",
              "      <th>CGPA</th>\n",
              "      <th>Study Satisfaction</th>\n",
              "      <th>Sleep Duration</th>\n",
              "      <th>Dietary Habits</th>\n",
              "      <th>Degree</th>\n",
              "      <th>SuicidalThoughts</th>\n",
              "      <th>Work/Study Hours</th>\n",
              "      <th>Financial Stress</th>\n",
              "      <th>FamilyMentalHistory</th>\n",
              "      <th>Depression</th>\n",
              "      <th>Work/Study Category</th>\n",
              "    </tr>\n",
              "  </thead>\n",
              "  <tbody>\n",
              "    <tr>\n",
              "      <th>0</th>\n",
              "      <td>Male</td>\n",
              "      <td>33.0</td>\n",
              "      <td>Visakhapatnam</td>\n",
              "      <td>5.0</td>\n",
              "      <td>8.97</td>\n",
              "      <td>2.0</td>\n",
              "      <td>5-6 hours</td>\n",
              "      <td>Healthy</td>\n",
              "      <td>B.Pharm</td>\n",
              "      <td>Yes</td>\n",
              "      <td>3.0</td>\n",
              "      <td>1.0</td>\n",
              "      <td>No</td>\n",
              "      <td>1</td>\n",
              "      <td>Low (≤4 hrs)</td>\n",
              "    </tr>\n",
              "    <tr>\n",
              "      <th>1</th>\n",
              "      <td>Female</td>\n",
              "      <td>24.0</td>\n",
              "      <td>Bangalore</td>\n",
              "      <td>2.0</td>\n",
              "      <td>5.90</td>\n",
              "      <td>5.0</td>\n",
              "      <td>5-6 hours</td>\n",
              "      <td>Moderate</td>\n",
              "      <td>BSc</td>\n",
              "      <td>No</td>\n",
              "      <td>3.0</td>\n",
              "      <td>2.0</td>\n",
              "      <td>Yes</td>\n",
              "      <td>0</td>\n",
              "      <td>Low (≤4 hrs)</td>\n",
              "    </tr>\n",
              "    <tr>\n",
              "      <th>2</th>\n",
              "      <td>Male</td>\n",
              "      <td>31.0</td>\n",
              "      <td>Srinagar</td>\n",
              "      <td>3.0</td>\n",
              "      <td>7.03</td>\n",
              "      <td>5.0</td>\n",
              "      <td>Less than 5 hours</td>\n",
              "      <td>Healthy</td>\n",
              "      <td>BA</td>\n",
              "      <td>No</td>\n",
              "      <td>9.0</td>\n",
              "      <td>1.0</td>\n",
              "      <td>Yes</td>\n",
              "      <td>0</td>\n",
              "      <td>High (≥9 hrs)</td>\n",
              "    </tr>\n",
              "    <tr>\n",
              "      <th>3</th>\n",
              "      <td>Female</td>\n",
              "      <td>28.0</td>\n",
              "      <td>Varanasi</td>\n",
              "      <td>3.0</td>\n",
              "      <td>5.59</td>\n",
              "      <td>2.0</td>\n",
              "      <td>7-8 hours</td>\n",
              "      <td>Moderate</td>\n",
              "      <td>BCA</td>\n",
              "      <td>Yes</td>\n",
              "      <td>4.0</td>\n",
              "      <td>5.0</td>\n",
              "      <td>Yes</td>\n",
              "      <td>1</td>\n",
              "      <td>Low (≤4 hrs)</td>\n",
              "    </tr>\n",
              "    <tr>\n",
              "      <th>4</th>\n",
              "      <td>Female</td>\n",
              "      <td>25.0</td>\n",
              "      <td>Jaipur</td>\n",
              "      <td>4.0</td>\n",
              "      <td>8.13</td>\n",
              "      <td>3.0</td>\n",
              "      <td>5-6 hours</td>\n",
              "      <td>Moderate</td>\n",
              "      <td>M.Tech</td>\n",
              "      <td>Yes</td>\n",
              "      <td>1.0</td>\n",
              "      <td>1.0</td>\n",
              "      <td>No</td>\n",
              "      <td>0</td>\n",
              "      <td>Low (≤4 hrs)</td>\n",
              "    </tr>\n",
              "  </tbody>\n",
              "</table>\n",
              "</div>"
            ],
            "text/plain": [
              "   Gender   Age           City  Academic Pressure  CGPA  Study Satisfaction  \\\n",
              "0    Male  33.0  Visakhapatnam                5.0  8.97                 2.0   \n",
              "1  Female  24.0      Bangalore                2.0  5.90                 5.0   \n",
              "2    Male  31.0       Srinagar                3.0  7.03                 5.0   \n",
              "3  Female  28.0       Varanasi                3.0  5.59                 2.0   \n",
              "4  Female  25.0         Jaipur                4.0  8.13                 3.0   \n",
              "\n",
              "      Sleep Duration Dietary Habits   Degree SuicidalThoughts  \\\n",
              "0          5-6 hours        Healthy  B.Pharm              Yes   \n",
              "1          5-6 hours       Moderate      BSc               No   \n",
              "2  Less than 5 hours        Healthy       BA               No   \n",
              "3          7-8 hours       Moderate      BCA              Yes   \n",
              "4          5-6 hours       Moderate   M.Tech              Yes   \n",
              "\n",
              "   Work/Study Hours  Financial Stress FamilyMentalHistory  Depression  \\\n",
              "0               3.0               1.0                  No           1   \n",
              "1               3.0               2.0                 Yes           0   \n",
              "2               9.0               1.0                 Yes           0   \n",
              "3               4.0               5.0                 Yes           1   \n",
              "4               1.0               1.0                  No           0   \n",
              "\n",
              "  Work/Study Category  \n",
              "0        Low (≤4 hrs)  \n",
              "1        Low (≤4 hrs)  \n",
              "2       High (≥9 hrs)  \n",
              "3        Low (≤4 hrs)  \n",
              "4        Low (≤4 hrs)  "
            ]
          },
          "execution_count": 82,
          "metadata": {},
          "output_type": "execute_result"
        }
      ],
      "source": [
        "depr_df.head()"
      ]
    },
    {
      "cell_type": "markdown",
      "metadata": {},
      "source": [
        "**Do males have a higher depression rate than females ?**"
      ]
    },
    {
      "cell_type": "code",
      "execution_count": 192,
      "metadata": {},
      "outputs": [
        {
          "data": {
            "text/html": [
              "<div>\n",
              "<style scoped>\n",
              "    .dataframe tbody tr th:only-of-type {\n",
              "        vertical-align: middle;\n",
              "    }\n",
              "\n",
              "    .dataframe tbody tr th {\n",
              "        vertical-align: top;\n",
              "    }\n",
              "\n",
              "    .dataframe thead th {\n",
              "        text-align: right;\n",
              "    }\n",
              "</style>\n",
              "<table border=\"1\" class=\"dataframe\">\n",
              "  <thead>\n",
              "    <tr style=\"text-align: right;\">\n",
              "      <th></th>\n",
              "      <th>sum</th>\n",
              "      <th>count</th>\n",
              "      <th>Depression Rate (%)</th>\n",
              "    </tr>\n",
              "    <tr>\n",
              "      <th>Gender</th>\n",
              "      <th></th>\n",
              "      <th></th>\n",
              "      <th></th>\n",
              "    </tr>\n",
              "  </thead>\n",
              "  <tbody>\n",
              "    <tr>\n",
              "      <th>Female</th>\n",
              "      <td>7189</td>\n",
              "      <td>12308</td>\n",
              "      <td>58.41</td>\n",
              "    </tr>\n",
              "    <tr>\n",
              "      <th>Male</th>\n",
              "      <td>9079</td>\n",
              "      <td>15489</td>\n",
              "      <td>58.62</td>\n",
              "    </tr>\n",
              "  </tbody>\n",
              "</table>\n",
              "</div>"
            ],
            "text/plain": [
              "         sum  count  Depression Rate (%)\n",
              "Gender                                  \n",
              "Female  7189  12308                58.41\n",
              "Male    9079  15489                58.62"
            ]
          },
          "execution_count": 192,
          "metadata": {},
          "output_type": "execute_result"
        }
      ],
      "source": [
        "gender_dep = depr_df.groupby('Gender')['Depression'].agg(['sum','count'])\n",
        "gender_dep['Depression Rate (%)'] = ((gender_dep['sum']/gender_dep['count']) * 100).round(2)\n",
        "gender_dep"
      ]
    },
    {
      "cell_type": "code",
      "execution_count": 205,
      "metadata": {},
      "outputs": [
        {
          "data": {
            "image/png": "[encoded data removed]",
            "text/plain": [
              "<Figure size 640x480 with 1 Axes>"
            ]
          },
          "metadata": {},
          "output_type": "display_data"
        }
      ],
      "source": [
        "ax = sns.barplot(\n",
        "        data = gender_dep.reset_index(),\n",
        "        x = 'Gender',\n",
        "        y = 'Depression Rate (%)',\n",
        "        hue = 'Gender',\n",
        "        order=['Male','Female'],\n",
        "        hue_order=['Male','Female'],\n",
        "    )\n",
        "\n",
        "\n",
        "for container in ax.containers:\n",
        "    ax.bar_label(container, fmt=\"%.2f%%\")\n",
        "\n",
        "plt.title('Depression Rate by Gender')\n",
        "plt.ylim(0, 100)\n",
        "plt.show()"
      ]
    },
    {
      "cell_type": "markdown",
      "metadata": {},
      "source": [
        "Male and female students have similar depression rates **(~58%)**, indicating no significant gender difference in depression prevalence."
      ]
    },
    {
      "cell_type": "markdown",
      "metadata": {},
      "source": [
        "---"
      ]
    },
    {
      "cell_type": "markdown",
      "metadata": {},
      "source": [
        "**Is academic pressure linked to depression differently for males and females ?**"
      ]
    },
    {
      "cell_type": "code",
      "execution_count": 177,
      "metadata": {},
      "outputs": [
        {
          "data": {
            "text/html": [
              "<div>\n",
              "<style scoped>\n",
              "    .dataframe tbody tr th:only-of-type {\n",
              "        vertical-align: middle;\n",
              "    }\n",
              "\n",
              "    .dataframe tbody tr th {\n",
              "        vertical-align: top;\n",
              "    }\n",
              "\n",
              "    .dataframe thead th {\n",
              "        text-align: right;\n",
              "    }\n",
              "</style>\n",
              "<table border=\"1\" class=\"dataframe\">\n",
              "  <thead>\n",
              "    <tr style=\"text-align: right;\">\n",
              "      <th></th>\n",
              "      <th></th>\n",
              "      <th>sum</th>\n",
              "      <th>count</th>\n",
              "      <th>Depression Rate (%)</th>\n",
              "    </tr>\n",
              "    <tr>\n",
              "      <th>Gender</th>\n",
              "      <th>Academic Pressure</th>\n",
              "      <th></th>\n",
              "      <th></th>\n",
              "      <th></th>\n",
              "    </tr>\n",
              "  </thead>\n",
              "  <tbody>\n",
              "    <tr>\n",
              "      <th rowspan=\"5\" valign=\"top\">Female</th>\n",
              "      <th>1.0</th>\n",
              "      <td>372</td>\n",
              "      <td>2043</td>\n",
              "      <td>18.21</td>\n",
              "    </tr>\n",
              "    <tr>\n",
              "      <th>2.0</th>\n",
              "      <td>666</td>\n",
              "      <td>1838</td>\n",
              "      <td>36.24</td>\n",
              "    </tr>\n",
              "    <tr>\n",
              "      <th>3.0</th>\n",
              "      <td>1933</td>\n",
              "      <td>3219</td>\n",
              "      <td>60.05</td>\n",
              "    </tr>\n",
              "    <tr>\n",
              "      <th>4.0</th>\n",
              "      <td>1753</td>\n",
              "      <td>2324</td>\n",
              "      <td>75.43</td>\n",
              "    </tr>\n",
              "    <tr>\n",
              "      <th>5.0</th>\n",
              "      <td>2465</td>\n",
              "      <td>2884</td>\n",
              "      <td>85.47</td>\n",
              "    </tr>\n",
              "    <tr>\n",
              "      <th rowspan=\"5\" valign=\"top\">Male</th>\n",
              "      <th>1.0</th>\n",
              "      <td>558</td>\n",
              "      <td>2748</td>\n",
              "      <td>20.31</td>\n",
              "    </tr>\n",
              "    <tr>\n",
              "      <th>2.0</th>\n",
              "      <td>892</td>\n",
              "      <td>2323</td>\n",
              "      <td>38.40</td>\n",
              "    </tr>\n",
              "    <tr>\n",
              "      <th>3.0</th>\n",
              "      <td>2535</td>\n",
              "      <td>4212</td>\n",
              "      <td>60.19</td>\n",
              "    </tr>\n",
              "    <tr>\n",
              "      <th>4.0</th>\n",
              "      <td>2159</td>\n",
              "      <td>2814</td>\n",
              "      <td>76.72</td>\n",
              "    </tr>\n",
              "    <tr>\n",
              "      <th>5.0</th>\n",
              "      <td>2935</td>\n",
              "      <td>3392</td>\n",
              "      <td>86.53</td>\n",
              "    </tr>\n",
              "  </tbody>\n",
              "</table>\n",
              "</div>"
            ],
            "text/plain": [
              "                           sum  count  Depression Rate (%)\n",
              "Gender Academic Pressure                                  \n",
              "Female 1.0                 372   2043                18.21\n",
              "       2.0                 666   1838                36.24\n",
              "       3.0                1933   3219                60.05\n",
              "       4.0                1753   2324                75.43\n",
              "       5.0                2465   2884                85.47\n",
              "Male   1.0                 558   2748                20.31\n",
              "       2.0                 892   2323                38.40\n",
              "       3.0                2535   4212                60.19\n",
              "       4.0                2159   2814                76.72\n",
              "       5.0                2935   3392                86.53"
            ]
          },
          "execution_count": 177,
          "metadata": {},
          "output_type": "execute_result"
        }
      ],
      "source": [
        "acd_depr = depr_df.groupby(['Gender','Academic Pressure'])['Depression'].agg(['sum', 'count'])\n",
        "acd_depr['Depression Rate (%)'] = ((acd_depr['sum'] / acd_depr['count']) * 100).round(2)\n",
        "acd_depr\n"
      ]
    },
    {
      "cell_type": "code",
      "execution_count": 197,
      "metadata": {},
      "outputs": [
        {
          "data": {
            "text/plain": [
              "Text(0.5, 0, 'Academic Pressure Level')"
            ]
          },
          "execution_count": 197,
          "metadata": {},
          "output_type": "execute_result"
        },
        {
          "data": {
            "image/png": "[encoded data removed]",
            "text/plain": [
              "<Figure size 640x480 with 1 Axes>"
            ]
          },
          "metadata": {},
          "output_type": "display_data"
        }
      ],
      "source": [
        "sns.barplot(\n",
        "    data=acd_depr.reset_index(), \n",
        "    x='Academic Pressure', \n",
        "    y='Depression Rate (%)', \n",
        "    hue = 'Gender',\n",
        "    hue_order=['Male','Female'],\n",
        ")\n",
        "plt.title(\"Academic Pressure vs Depression by Gender\")\n",
        "plt.xlabel(\"Academic Pressure Level\")"
      ]
    },
    {
      "cell_type": "markdown",
      "metadata": {},
      "source": [
        "Similar result can be achieved by directly inserting the features in `seaborn.barplot` function\n",
        "\n",
        "Only difference is the below plot represents Depression in proportions **(0-1)**"
      ]
    },
    {
      "cell_type": "code",
      "execution_count": 206,
      "metadata": {},
      "outputs": [
        {
          "data": {
            "text/plain": [
              "Text(0.5, 0, 'Academic Pressure Level')"
            ]
          },
          "execution_count": 206,
          "metadata": {},
          "output_type": "execute_result"
        },
        {
          "data": {
            "image/png": "[encoded data removed]",
            "text/plain": [
              "<Figure size 640x480 with 1 Axes>"
            ]
          },
          "metadata": {},
          "output_type": "display_data"
        }
      ],
      "source": [
        "sns.barplot(data=depr_df, x='Academic Pressure', y='Depression', hue='Gender')\n",
        "plt.title(\"Academic Pressure vs Depression by Gender\")\n",
        "plt.xlabel(\"Academic Pressure Level\")"
      ]
    },
    {
      "cell_type": "markdown",
      "metadata": {},
      "source": [
        "Thus, Depression Rates show a constant increase with increase of `Academic Pressure`, with Males having slightly higher rates than that of Females."
      ]
    },
    {
      "cell_type": "markdown",
      "metadata": {
        "id": "sDc6BpLW7ZY3"
      },
      "source": [
        "### Multivariate Analysis"
      ]
    },
    {
      "cell_type": "code",
      "execution_count": null,
      "metadata": {
        "colab": {
          "base_uri": "https://localhost:8080/",
          "height": 298
        },
        "id": "DwDn4R7i7cWa",
        "outputId": "43514071-d9e8-453c-8929-3fe4fa0e5551"
      },
      "outputs": [],
      "source": []
    },
    {
      "cell_type": "markdown",
      "metadata": {
        "id": "OPoDdnLFN36c"
      },
      "source": [
        "### **Data Pre-Processing**"
      ]
    },
    {
      "cell_type": "code",
      "execution_count": null,
      "metadata": {
        "id": "52SxmpZ0N4IZ"
      },
      "outputs": [],
      "source": []
    },
    {
      "cell_type": "markdown",
      "metadata": {
        "id": "x6nxMlrxNrEB"
      },
      "source": [
        "### **Prediction**"
      ]
    },
    {
      "cell_type": "code",
      "execution_count": null,
      "metadata": {
        "id": "HkgpHvWONuUf"
      },
      "outputs": [],
      "source": []
    },
    {
      "cell_type": "markdown",
      "metadata": {
        "id": "fQ-QBWJSOI0p"
      },
      "source": [
        "### **Conclusion**"
      ]
    },
    {
      "cell_type": "code",
      "execution_count": null,
      "metadata": {
        "id": "ElsWJc1BOK6a"
      },
      "outputs": [],
      "source": []
    }
  ],
  "metadata": {
    "colab": {
      "provenance": []
    },
    "kernelspec": {
      "display_name": "myvenv",
      "language": "python",
      "name": "python3"
    },
    "language_info": {
      "codemirror_mode": {
        "name": "ipython",
        "version": 3
      },
      "file_extension": ".py",
      "mimetype": "text/x-python",
      "name": "python",
      "nbconvert_exporter": "python",
      "pygments_lexer": "ipython3",
      "version": "3.12.8"
    }
  },
  "nbformat": 4,
  "nbformat_minor": 0
}
